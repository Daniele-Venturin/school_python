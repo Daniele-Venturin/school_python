{
 "cells": [
  {
   "cell_type": "code",
   "execution_count": 22,
   "metadata": {},
   "outputs": [],
   "source": [
    "import pandas as pd\n",
    "import numpy as np\n",
    "import matplotlib.pyplot as plt\n",
    "from pylab import rcParams\n",
    "\n",
    "%matplotlib inline\n",
    "\n",
    "#Setup grafico\n",
    "rcParams['figure.figsize'] = 20, 10"
   ]
  },
  {
   "cell_type": "code",
   "execution_count": 23,
   "metadata": {},
   "outputs": [],
   "source": [
    "#I dati sono disponibili sul sito Kaggle: https://www.kaggle.com/mlg-ulb/creditcardfraud\n",
    "df = pd.read_csv(\"creditcard.csv\")"
   ]
  },
  {
   "cell_type": "markdown",
   "metadata": {},
   "source": [
    "# Exploration"
   ]
  },
  {
   "cell_type": "code",
   "execution_count": null,
   "metadata": {},
   "outputs": [],
   "source": [
    "df.shape"
   ]
  },
  {
   "cell_type": "code",
   "execution_count": null,
   "metadata": {
    "scrolled": true
   },
   "outputs": [],
   "source": [
    "df.head(5)"
   ]
  },
  {
   "cell_type": "code",
   "execution_count": null,
   "metadata": {},
   "outputs": [],
   "source": [
    "#Let's check for missing values\n",
    "df.isnull().values.any()"
   ]
  },
  {
   "cell_type": "code",
   "execution_count": null,
   "metadata": {},
   "outputs": [],
   "source": [
    "count_classes = pd.value_counts(df['Class'], sort = True)\n",
    "count_classes"
   ]
  },
  {
   "cell_type": "code",
   "execution_count": null,
   "metadata": {},
   "outputs": [],
   "source": [
    "LABELS = [\"Normal\", \"Fraud\"]\n",
    "count_classes.plot(kind = 'bar',rot=0)\n",
    "plt.title(\"Transaction class distribution\")\n",
    "plt.xticks(range(2), LABELS)\n",
    "plt.xlabel(\"Class\")\n",
    "plt.ylabel(\"Frequency\");"
   ]
  },
  {
   "cell_type": "code",
   "execution_count": null,
   "metadata": {},
   "outputs": [],
   "source": [
    "frauds = df[df.Class == 1]\n",
    "normal = df[df.Class == 0]"
   ]
  },
  {
   "cell_type": "code",
   "execution_count": null,
   "metadata": {},
   "outputs": [],
   "source": [
    "frauds.shape"
   ]
  },
  {
   "cell_type": "code",
   "execution_count": null,
   "metadata": {},
   "outputs": [],
   "source": [
    "normal.shape"
   ]
  },
  {
   "cell_type": "code",
   "execution_count": null,
   "metadata": {},
   "outputs": [],
   "source": [
    "frauds.describe()"
   ]
  },
  {
   "cell_type": "markdown",
   "metadata": {},
   "source": [
    "How different are the amount of money used in different transaction classes?"
   ]
  },
  {
   "cell_type": "code",
   "execution_count": null,
   "metadata": {},
   "outputs": [],
   "source": [
    "frauds.Amount.describe()"
   ]
  },
  {
   "cell_type": "code",
   "execution_count": null,
   "metadata": {
    "scrolled": true
   },
   "outputs": [],
   "source": [
    "normal.Amount.describe()"
   ]
  },
  {
   "cell_type": "markdown",
   "metadata": {},
   "source": [
    "Let's have a more graphical representation:"
   ]
  },
  {
   "cell_type": "code",
   "execution_count": null,
   "metadata": {},
   "outputs": [],
   "source": [
    "f, (ax1, ax2) = plt.subplots(2, 1, sharex=True)\n",
    "f.suptitle('Amount per transaction by class')\n",
    "\n",
    "bins = 50\n",
    "\n",
    "ax1.hist(frauds.Amount, bins = bins)\n",
    "ax1.set_title('Fraud')\n",
    "\n",
    "ax2.hist(normal.Amount, bins = bins)\n",
    "ax2.set_title('Normal')\n",
    "\n",
    "plt.xlabel('Amount ($)')\n",
    "plt.ylabel('Number of Transactions')\n",
    "plt.xlim((0, 20000))\n",
    "plt.yscale('log')\n",
    "#plt.show();"
   ]
  },
  {
   "cell_type": "markdown",
   "metadata": {},
   "source": [
    "Do fraudulent transactions occur more often during certain time?"
   ]
  },
  {
   "cell_type": "code",
   "execution_count": null,
   "metadata": {},
   "outputs": [],
   "source": [
    "f, (ax1, ax2) = plt.subplots(2, 1, sharex=True)\n",
    "f.suptitle('Time of transaction vs Amount by class')\n",
    "\n",
    "ax1.scatter(frauds.Time, frauds.Amount)\n",
    "ax1.set_title('Fraud')\n",
    "\n",
    "ax2.scatter(normal.Time, normal.Amount)\n",
    "ax2.set_title('Normal')\n",
    "\n",
    "plt.xlabel('Time (in Seconds)')\n",
    "plt.ylabel('Amount')\n",
    "plt.show()"
   ]
  },
  {
   "cell_type": "markdown",
   "metadata": {},
   "source": [
    "# Uso di scikit-learn"
   ]
  },
  {
   "cell_type": "markdown",
   "metadata": {},
   "source": [
    "## Dataset split"
   ]
  },
  {
   "cell_type": "code",
   "execution_count": 24,
   "metadata": {},
   "outputs": [
    {
     "data": {
      "text/plain": [
       "(284807, 31)"
      ]
     },
     "execution_count": 24,
     "metadata": {},
     "output_type": "execute_result"
    }
   ],
   "source": [
    "df.shape"
   ]
  },
  {
   "cell_type": "code",
   "execution_count": 25,
   "metadata": {},
   "outputs": [],
   "source": [
    "from sklearn.model_selection import train_test_split\n",
    "train_df, test_df = train_test_split(df, test_size=0.2, random_state=42, shuffle=True )"
   ]
  },
  {
   "cell_type": "code",
   "execution_count": 26,
   "metadata": {},
   "outputs": [
    {
     "data": {
      "text/plain": [
       "(227845, 31)"
      ]
     },
     "execution_count": 26,
     "metadata": {},
     "output_type": "execute_result"
    }
   ],
   "source": [
    "train_df.shape"
   ]
  },
  {
   "cell_type": "code",
   "execution_count": 27,
   "metadata": {},
   "outputs": [
    {
     "data": {
      "text/plain": [
       "(56962, 31)"
      ]
     },
     "execution_count": 27,
     "metadata": {},
     "output_type": "execute_result"
    }
   ],
   "source": [
    "test_df.shape"
   ]
  },
  {
   "cell_type": "code",
   "execution_count": 28,
   "metadata": {},
   "outputs": [
    {
     "data": {
      "text/html": [
       "<div>\n",
       "<style scoped>\n",
       "    .dataframe tbody tr th:only-of-type {\n",
       "        vertical-align: middle;\n",
       "    }\n",
       "\n",
       "    .dataframe tbody tr th {\n",
       "        vertical-align: top;\n",
       "    }\n",
       "\n",
       "    .dataframe thead th {\n",
       "        text-align: right;\n",
       "    }\n",
       "</style>\n",
       "<table border=\"1\" class=\"dataframe\">\n",
       "  <thead>\n",
       "    <tr style=\"text-align: right;\">\n",
       "      <th></th>\n",
       "      <th>Time</th>\n",
       "      <th>V1</th>\n",
       "      <th>V2</th>\n",
       "      <th>V3</th>\n",
       "      <th>V4</th>\n",
       "      <th>V5</th>\n",
       "      <th>V6</th>\n",
       "      <th>V7</th>\n",
       "      <th>V8</th>\n",
       "      <th>V9</th>\n",
       "      <th>...</th>\n",
       "      <th>V21</th>\n",
       "      <th>V22</th>\n",
       "      <th>V23</th>\n",
       "      <th>V24</th>\n",
       "      <th>V25</th>\n",
       "      <th>V26</th>\n",
       "      <th>V27</th>\n",
       "      <th>V28</th>\n",
       "      <th>Amount</th>\n",
       "      <th>Class</th>\n",
       "    </tr>\n",
       "  </thead>\n",
       "  <tbody>\n",
       "    <tr>\n",
       "      <th>223361</th>\n",
       "      <td>143352.0</td>\n",
       "      <td>1.955041</td>\n",
       "      <td>-0.380783</td>\n",
       "      <td>-0.315013</td>\n",
       "      <td>0.330155</td>\n",
       "      <td>-0.509374</td>\n",
       "      <td>-0.086197</td>\n",
       "      <td>-0.627978</td>\n",
       "      <td>0.035994</td>\n",
       "      <td>1.054560</td>\n",
       "      <td>...</td>\n",
       "      <td>0.238197</td>\n",
       "      <td>0.968305</td>\n",
       "      <td>0.053208</td>\n",
       "      <td>-0.278602</td>\n",
       "      <td>-0.044999</td>\n",
       "      <td>-0.216780</td>\n",
       "      <td>0.045168</td>\n",
       "      <td>-0.047145</td>\n",
       "      <td>9.99</td>\n",
       "      <td>0</td>\n",
       "    </tr>\n",
       "    <tr>\n",
       "      <th>165061</th>\n",
       "      <td>117173.0</td>\n",
       "      <td>-0.400975</td>\n",
       "      <td>-0.626943</td>\n",
       "      <td>1.555339</td>\n",
       "      <td>-2.017772</td>\n",
       "      <td>-0.107769</td>\n",
       "      <td>0.168310</td>\n",
       "      <td>0.017959</td>\n",
       "      <td>-0.401619</td>\n",
       "      <td>0.040378</td>\n",
       "      <td>...</td>\n",
       "      <td>-0.153485</td>\n",
       "      <td>0.421703</td>\n",
       "      <td>0.113442</td>\n",
       "      <td>-1.004095</td>\n",
       "      <td>-1.176695</td>\n",
       "      <td>0.361924</td>\n",
       "      <td>-0.370469</td>\n",
       "      <td>-0.144792</td>\n",
       "      <td>45.90</td>\n",
       "      <td>0</td>\n",
       "    </tr>\n",
       "    <tr>\n",
       "      <th>238186</th>\n",
       "      <td>149565.0</td>\n",
       "      <td>0.072509</td>\n",
       "      <td>0.820566</td>\n",
       "      <td>-0.561351</td>\n",
       "      <td>-0.709897</td>\n",
       "      <td>1.080399</td>\n",
       "      <td>-0.359429</td>\n",
       "      <td>0.787858</td>\n",
       "      <td>0.117276</td>\n",
       "      <td>-0.131275</td>\n",
       "      <td>...</td>\n",
       "      <td>-0.314638</td>\n",
       "      <td>-0.872959</td>\n",
       "      <td>0.083391</td>\n",
       "      <td>0.148178</td>\n",
       "      <td>-0.431459</td>\n",
       "      <td>0.119690</td>\n",
       "      <td>0.206395</td>\n",
       "      <td>0.070288</td>\n",
       "      <td>11.99</td>\n",
       "      <td>0</td>\n",
       "    </tr>\n",
       "    <tr>\n",
       "      <th>150562</th>\n",
       "      <td>93670.0</td>\n",
       "      <td>-0.535045</td>\n",
       "      <td>1.014587</td>\n",
       "      <td>1.750679</td>\n",
       "      <td>2.769390</td>\n",
       "      <td>0.500089</td>\n",
       "      <td>1.002270</td>\n",
       "      <td>0.847902</td>\n",
       "      <td>-0.081323</td>\n",
       "      <td>0.371579</td>\n",
       "      <td>...</td>\n",
       "      <td>0.063525</td>\n",
       "      <td>0.443431</td>\n",
       "      <td>-0.072754</td>\n",
       "      <td>0.448192</td>\n",
       "      <td>-0.655203</td>\n",
       "      <td>-0.181038</td>\n",
       "      <td>-0.093013</td>\n",
       "      <td>-0.064931</td>\n",
       "      <td>117.44</td>\n",
       "      <td>0</td>\n",
       "    </tr>\n",
       "    <tr>\n",
       "      <th>138452</th>\n",
       "      <td>82655.0</td>\n",
       "      <td>-4.026938</td>\n",
       "      <td>1.897371</td>\n",
       "      <td>-0.429786</td>\n",
       "      <td>-0.029571</td>\n",
       "      <td>-0.855751</td>\n",
       "      <td>-0.480406</td>\n",
       "      <td>-0.435632</td>\n",
       "      <td>1.313760</td>\n",
       "      <td>0.536044</td>\n",
       "      <td>...</td>\n",
       "      <td>-0.480691</td>\n",
       "      <td>-0.230369</td>\n",
       "      <td>0.250717</td>\n",
       "      <td>0.066399</td>\n",
       "      <td>0.470787</td>\n",
       "      <td>0.245335</td>\n",
       "      <td>0.286904</td>\n",
       "      <td>-0.322672</td>\n",
       "      <td>25.76</td>\n",
       "      <td>0</td>\n",
       "    </tr>\n",
       "    <tr>\n",
       "      <th>35440</th>\n",
       "      <td>38121.0</td>\n",
       "      <td>-0.795091</td>\n",
       "      <td>1.061833</td>\n",
       "      <td>0.640795</td>\n",
       "      <td>0.594567</td>\n",
       "      <td>0.551601</td>\n",
       "      <td>0.097600</td>\n",
       "      <td>0.633501</td>\n",
       "      <td>0.083765</td>\n",
       "      <td>-0.027452</td>\n",
       "      <td>...</td>\n",
       "      <td>0.026523</td>\n",
       "      <td>0.321166</td>\n",
       "      <td>-0.246997</td>\n",
       "      <td>-0.779914</td>\n",
       "      <td>-0.160225</td>\n",
       "      <td>-0.236537</td>\n",
       "      <td>0.442701</td>\n",
       "      <td>0.268076</td>\n",
       "      <td>40.22</td>\n",
       "      <td>0</td>\n",
       "    </tr>\n",
       "    <tr>\n",
       "      <th>119552</th>\n",
       "      <td>75491.0</td>\n",
       "      <td>1.174701</td>\n",
       "      <td>0.275037</td>\n",
       "      <td>0.364384</td>\n",
       "      <td>1.078177</td>\n",
       "      <td>-0.137806</td>\n",
       "      <td>-0.423289</td>\n",
       "      <td>0.089835</td>\n",
       "      <td>-0.090439</td>\n",
       "      <td>-0.011100</td>\n",
       "      <td>...</td>\n",
       "      <td>0.109522</td>\n",
       "      <td>0.400376</td>\n",
       "      <td>-0.095922</td>\n",
       "      <td>0.102617</td>\n",
       "      <td>0.616368</td>\n",
       "      <td>-0.269566</td>\n",
       "      <td>0.036606</td>\n",
       "      <td>0.021232</td>\n",
       "      <td>14.90</td>\n",
       "      <td>0</td>\n",
       "    </tr>\n",
       "    <tr>\n",
       "      <th>189362</th>\n",
       "      <td>128362.0</td>\n",
       "      <td>0.119471</td>\n",
       "      <td>0.026912</td>\n",
       "      <td>0.025870</td>\n",
       "      <td>-0.638642</td>\n",
       "      <td>1.569986</td>\n",
       "      <td>1.551793</td>\n",
       "      <td>0.573425</td>\n",
       "      <td>0.192499</td>\n",
       "      <td>0.266783</td>\n",
       "      <td>...</td>\n",
       "      <td>0.493721</td>\n",
       "      <td>1.870004</td>\n",
       "      <td>-0.079431</td>\n",
       "      <td>-1.905932</td>\n",
       "      <td>-0.616224</td>\n",
       "      <td>0.629626</td>\n",
       "      <td>-0.049543</td>\n",
       "      <td>-0.192198</td>\n",
       "      <td>44.30</td>\n",
       "      <td>0</td>\n",
       "    </tr>\n",
       "    <tr>\n",
       "      <th>150524</th>\n",
       "      <td>93605.0</td>\n",
       "      <td>-0.685023</td>\n",
       "      <td>1.448337</td>\n",
       "      <td>0.167864</td>\n",
       "      <td>4.622496</td>\n",
       "      <td>1.383526</td>\n",
       "      <td>0.187905</td>\n",
       "      <td>1.847737</td>\n",
       "      <td>-1.222425</td>\n",
       "      <td>0.231182</td>\n",
       "      <td>...</td>\n",
       "      <td>-0.279236</td>\n",
       "      <td>0.609252</td>\n",
       "      <td>0.265805</td>\n",
       "      <td>-0.142988</td>\n",
       "      <td>-1.094047</td>\n",
       "      <td>0.119107</td>\n",
       "      <td>-0.527683</td>\n",
       "      <td>-0.036831</td>\n",
       "      <td>60.09</td>\n",
       "      <td>0</td>\n",
       "    </tr>\n",
       "    <tr>\n",
       "      <th>223666</th>\n",
       "      <td>143475.0</td>\n",
       "      <td>0.025493</td>\n",
       "      <td>-0.317142</td>\n",
       "      <td>0.883483</td>\n",
       "      <td>-2.527437</td>\n",
       "      <td>-0.532859</td>\n",
       "      <td>-0.858682</td>\n",
       "      <td>0.010320</td>\n",
       "      <td>-0.267504</td>\n",
       "      <td>-2.281117</td>\n",
       "      <td>...</td>\n",
       "      <td>-0.048195</td>\n",
       "      <td>0.379341</td>\n",
       "      <td>-0.098510</td>\n",
       "      <td>0.001591</td>\n",
       "      <td>-0.432567</td>\n",
       "      <td>-0.227720</td>\n",
       "      <td>0.188823</td>\n",
       "      <td>0.176748</td>\n",
       "      <td>10.00</td>\n",
       "      <td>0</td>\n",
       "    </tr>\n",
       "  </tbody>\n",
       "</table>\n",
       "<p>10 rows × 31 columns</p>\n",
       "</div>"
      ],
      "text/plain": [
       "            Time        V1        V2        V3        V4        V5        V6  \\\n",
       "223361  143352.0  1.955041 -0.380783 -0.315013  0.330155 -0.509374 -0.086197   \n",
       "165061  117173.0 -0.400975 -0.626943  1.555339 -2.017772 -0.107769  0.168310   \n",
       "238186  149565.0  0.072509  0.820566 -0.561351 -0.709897  1.080399 -0.359429   \n",
       "150562   93670.0 -0.535045  1.014587  1.750679  2.769390  0.500089  1.002270   \n",
       "138452   82655.0 -4.026938  1.897371 -0.429786 -0.029571 -0.855751 -0.480406   \n",
       "35440    38121.0 -0.795091  1.061833  0.640795  0.594567  0.551601  0.097600   \n",
       "119552   75491.0  1.174701  0.275037  0.364384  1.078177 -0.137806 -0.423289   \n",
       "189362  128362.0  0.119471  0.026912  0.025870 -0.638642  1.569986  1.551793   \n",
       "150524   93605.0 -0.685023  1.448337  0.167864  4.622496  1.383526  0.187905   \n",
       "223666  143475.0  0.025493 -0.317142  0.883483 -2.527437 -0.532859 -0.858682   \n",
       "\n",
       "              V7        V8        V9  ...       V21       V22       V23  \\\n",
       "223361 -0.627978  0.035994  1.054560  ...  0.238197  0.968305  0.053208   \n",
       "165061  0.017959 -0.401619  0.040378  ... -0.153485  0.421703  0.113442   \n",
       "238186  0.787858  0.117276 -0.131275  ... -0.314638 -0.872959  0.083391   \n",
       "150562  0.847902 -0.081323  0.371579  ...  0.063525  0.443431 -0.072754   \n",
       "138452 -0.435632  1.313760  0.536044  ... -0.480691 -0.230369  0.250717   \n",
       "35440   0.633501  0.083765 -0.027452  ...  0.026523  0.321166 -0.246997   \n",
       "119552  0.089835 -0.090439 -0.011100  ...  0.109522  0.400376 -0.095922   \n",
       "189362  0.573425  0.192499  0.266783  ...  0.493721  1.870004 -0.079431   \n",
       "150524  1.847737 -1.222425  0.231182  ... -0.279236  0.609252  0.265805   \n",
       "223666  0.010320 -0.267504 -2.281117  ... -0.048195  0.379341 -0.098510   \n",
       "\n",
       "             V24       V25       V26       V27       V28  Amount  Class  \n",
       "223361 -0.278602 -0.044999 -0.216780  0.045168 -0.047145    9.99      0  \n",
       "165061 -1.004095 -1.176695  0.361924 -0.370469 -0.144792   45.90      0  \n",
       "238186  0.148178 -0.431459  0.119690  0.206395  0.070288   11.99      0  \n",
       "150562  0.448192 -0.655203 -0.181038 -0.093013 -0.064931  117.44      0  \n",
       "138452  0.066399  0.470787  0.245335  0.286904 -0.322672   25.76      0  \n",
       "35440  -0.779914 -0.160225 -0.236537  0.442701  0.268076   40.22      0  \n",
       "119552  0.102617  0.616368 -0.269566  0.036606  0.021232   14.90      0  \n",
       "189362 -1.905932 -0.616224  0.629626 -0.049543 -0.192198   44.30      0  \n",
       "150524 -0.142988 -1.094047  0.119107 -0.527683 -0.036831   60.09      0  \n",
       "223666  0.001591 -0.432567 -0.227720  0.188823  0.176748   10.00      0  \n",
       "\n",
       "[10 rows x 31 columns]"
      ]
     },
     "execution_count": 28,
     "metadata": {},
     "output_type": "execute_result"
    }
   ],
   "source": [
    "train_df.head(10)"
   ]
  },
  {
   "cell_type": "code",
   "execution_count": 29,
   "metadata": {},
   "outputs": [
    {
     "data": {
      "text/html": [
       "<div>\n",
       "<style scoped>\n",
       "    .dataframe tbody tr th:only-of-type {\n",
       "        vertical-align: middle;\n",
       "    }\n",
       "\n",
       "    .dataframe tbody tr th {\n",
       "        vertical-align: top;\n",
       "    }\n",
       "\n",
       "    .dataframe thead th {\n",
       "        text-align: right;\n",
       "    }\n",
       "</style>\n",
       "<table border=\"1\" class=\"dataframe\">\n",
       "  <thead>\n",
       "    <tr style=\"text-align: right;\">\n",
       "      <th></th>\n",
       "      <th>Time</th>\n",
       "      <th>V1</th>\n",
       "      <th>V2</th>\n",
       "      <th>V3</th>\n",
       "      <th>V4</th>\n",
       "      <th>V5</th>\n",
       "      <th>V6</th>\n",
       "      <th>V7</th>\n",
       "      <th>V8</th>\n",
       "      <th>V9</th>\n",
       "      <th>...</th>\n",
       "      <th>V21</th>\n",
       "      <th>V22</th>\n",
       "      <th>V23</th>\n",
       "      <th>V24</th>\n",
       "      <th>V25</th>\n",
       "      <th>V26</th>\n",
       "      <th>V27</th>\n",
       "      <th>V28</th>\n",
       "      <th>Amount</th>\n",
       "      <th>Class</th>\n",
       "    </tr>\n",
       "  </thead>\n",
       "  <tbody>\n",
       "    <tr>\n",
       "      <th>43428</th>\n",
       "      <td>41505.0</td>\n",
       "      <td>-16.526507</td>\n",
       "      <td>8.584972</td>\n",
       "      <td>-18.649853</td>\n",
       "      <td>9.505594</td>\n",
       "      <td>-13.793819</td>\n",
       "      <td>-2.832404</td>\n",
       "      <td>-16.701694</td>\n",
       "      <td>7.517344</td>\n",
       "      <td>-8.507059</td>\n",
       "      <td>...</td>\n",
       "      <td>1.190739</td>\n",
       "      <td>-1.127670</td>\n",
       "      <td>-2.358579</td>\n",
       "      <td>0.673461</td>\n",
       "      <td>-1.413700</td>\n",
       "      <td>-0.462762</td>\n",
       "      <td>-2.018575</td>\n",
       "      <td>-1.042804</td>\n",
       "      <td>364.19</td>\n",
       "      <td>1</td>\n",
       "    </tr>\n",
       "    <tr>\n",
       "      <th>49906</th>\n",
       "      <td>44261.0</td>\n",
       "      <td>0.339812</td>\n",
       "      <td>-2.743745</td>\n",
       "      <td>-0.134070</td>\n",
       "      <td>-1.385729</td>\n",
       "      <td>-1.451413</td>\n",
       "      <td>1.015887</td>\n",
       "      <td>-0.524379</td>\n",
       "      <td>0.224060</td>\n",
       "      <td>0.899746</td>\n",
       "      <td>...</td>\n",
       "      <td>-0.213436</td>\n",
       "      <td>-0.942525</td>\n",
       "      <td>-0.526819</td>\n",
       "      <td>-1.156992</td>\n",
       "      <td>0.311211</td>\n",
       "      <td>-0.746647</td>\n",
       "      <td>0.040996</td>\n",
       "      <td>0.102038</td>\n",
       "      <td>520.12</td>\n",
       "      <td>0</td>\n",
       "    </tr>\n",
       "    <tr>\n",
       "      <th>29474</th>\n",
       "      <td>35484.0</td>\n",
       "      <td>1.399590</td>\n",
       "      <td>-0.590701</td>\n",
       "      <td>0.168619</td>\n",
       "      <td>-1.029950</td>\n",
       "      <td>-0.539806</td>\n",
       "      <td>0.040444</td>\n",
       "      <td>-0.712567</td>\n",
       "      <td>0.002299</td>\n",
       "      <td>-0.971747</td>\n",
       "      <td>...</td>\n",
       "      <td>0.102398</td>\n",
       "      <td>0.168269</td>\n",
       "      <td>-0.166639</td>\n",
       "      <td>-0.810250</td>\n",
       "      <td>0.505083</td>\n",
       "      <td>-0.232340</td>\n",
       "      <td>0.011409</td>\n",
       "      <td>0.004634</td>\n",
       "      <td>31.00</td>\n",
       "      <td>0</td>\n",
       "    </tr>\n",
       "    <tr>\n",
       "      <th>276481</th>\n",
       "      <td>167123.0</td>\n",
       "      <td>-0.432071</td>\n",
       "      <td>1.647895</td>\n",
       "      <td>-1.669361</td>\n",
       "      <td>-0.349504</td>\n",
       "      <td>0.785785</td>\n",
       "      <td>-0.630647</td>\n",
       "      <td>0.276990</td>\n",
       "      <td>0.586025</td>\n",
       "      <td>-0.484715</td>\n",
       "      <td>...</td>\n",
       "      <td>0.358932</td>\n",
       "      <td>0.873663</td>\n",
       "      <td>-0.178642</td>\n",
       "      <td>-0.017171</td>\n",
       "      <td>-0.207392</td>\n",
       "      <td>-0.157756</td>\n",
       "      <td>-0.237386</td>\n",
       "      <td>0.001934</td>\n",
       "      <td>1.50</td>\n",
       "      <td>0</td>\n",
       "    </tr>\n",
       "    <tr>\n",
       "      <th>278846</th>\n",
       "      <td>168473.0</td>\n",
       "      <td>2.014160</td>\n",
       "      <td>-0.137394</td>\n",
       "      <td>-1.015839</td>\n",
       "      <td>0.327269</td>\n",
       "      <td>-0.182179</td>\n",
       "      <td>-0.956571</td>\n",
       "      <td>0.043241</td>\n",
       "      <td>-0.160746</td>\n",
       "      <td>0.363241</td>\n",
       "      <td>...</td>\n",
       "      <td>-0.238644</td>\n",
       "      <td>-0.616400</td>\n",
       "      <td>0.347045</td>\n",
       "      <td>0.061561</td>\n",
       "      <td>-0.360196</td>\n",
       "      <td>0.174730</td>\n",
       "      <td>-0.078043</td>\n",
       "      <td>-0.070571</td>\n",
       "      <td>0.89</td>\n",
       "      <td>0</td>\n",
       "    </tr>\n",
       "    <tr>\n",
       "      <th>101565</th>\n",
       "      <td>67878.0</td>\n",
       "      <td>-0.641330</td>\n",
       "      <td>-0.057304</td>\n",
       "      <td>1.489998</td>\n",
       "      <td>-1.688131</td>\n",
       "      <td>-1.151043</td>\n",
       "      <td>0.259996</td>\n",
       "      <td>-1.391069</td>\n",
       "      <td>-2.334075</td>\n",
       "      <td>1.168644</td>\n",
       "      <td>...</td>\n",
       "      <td>-1.231634</td>\n",
       "      <td>0.257164</td>\n",
       "      <td>-0.371953</td>\n",
       "      <td>-0.038566</td>\n",
       "      <td>1.397514</td>\n",
       "      <td>-0.665947</td>\n",
       "      <td>0.031003</td>\n",
       "      <td>0.180357</td>\n",
       "      <td>100.00</td>\n",
       "      <td>0</td>\n",
       "    </tr>\n",
       "    <tr>\n",
       "      <th>260880</th>\n",
       "      <td>159763.0</td>\n",
       "      <td>2.023952</td>\n",
       "      <td>-0.120140</td>\n",
       "      <td>-1.086918</td>\n",
       "      <td>0.423019</td>\n",
       "      <td>-0.142901</td>\n",
       "      <td>-1.127752</td>\n",
       "      <td>0.178493</td>\n",
       "      <td>-0.303234</td>\n",
       "      <td>0.564509</td>\n",
       "      <td>...</td>\n",
       "      <td>-0.276175</td>\n",
       "      <td>-0.697708</td>\n",
       "      <td>0.335631</td>\n",
       "      <td>-0.017196</td>\n",
       "      <td>-0.324904</td>\n",
       "      <td>0.200023</td>\n",
       "      <td>-0.071566</td>\n",
       "      <td>-0.058224</td>\n",
       "      <td>16.99</td>\n",
       "      <td>0</td>\n",
       "    </tr>\n",
       "    <tr>\n",
       "      <th>214337</th>\n",
       "      <td>139631.0</td>\n",
       "      <td>-0.688944</td>\n",
       "      <td>1.292153</td>\n",
       "      <td>-0.564281</td>\n",
       "      <td>-1.457526</td>\n",
       "      <td>2.258333</td>\n",
       "      <td>-0.323270</td>\n",
       "      <td>1.678984</td>\n",
       "      <td>-0.104128</td>\n",
       "      <td>-1.285351</td>\n",
       "      <td>...</td>\n",
       "      <td>-0.006880</td>\n",
       "      <td>-0.171568</td>\n",
       "      <td>-0.720019</td>\n",
       "      <td>-0.419435</td>\n",
       "      <td>1.211991</td>\n",
       "      <td>0.670916</td>\n",
       "      <td>-0.103986</td>\n",
       "      <td>0.030084</td>\n",
       "      <td>8.95</td>\n",
       "      <td>0</td>\n",
       "    </tr>\n",
       "    <tr>\n",
       "      <th>201575</th>\n",
       "      <td>133944.0</td>\n",
       "      <td>2.119362</td>\n",
       "      <td>0.142639</td>\n",
       "      <td>-2.373337</td>\n",
       "      <td>0.541949</td>\n",
       "      <td>0.608419</td>\n",
       "      <td>-1.775564</td>\n",
       "      <td>0.955775</td>\n",
       "      <td>-0.599383</td>\n",
       "      <td>0.010420</td>\n",
       "      <td>...</td>\n",
       "      <td>0.264264</td>\n",
       "      <td>0.898266</td>\n",
       "      <td>-0.168063</td>\n",
       "      <td>0.059311</td>\n",
       "      <td>0.626949</td>\n",
       "      <td>0.729035</td>\n",
       "      <td>-0.129120</td>\n",
       "      <td>-0.094713</td>\n",
       "      <td>10.00</td>\n",
       "      <td>0</td>\n",
       "    </tr>\n",
       "    <tr>\n",
       "      <th>81055</th>\n",
       "      <td>58769.0</td>\n",
       "      <td>-5.584256</td>\n",
       "      <td>-4.732413</td>\n",
       "      <td>-0.448452</td>\n",
       "      <td>-0.121442</td>\n",
       "      <td>-0.707412</td>\n",
       "      <td>-0.114376</td>\n",
       "      <td>-1.554628</td>\n",
       "      <td>1.402126</td>\n",
       "      <td>-0.031693</td>\n",
       "      <td>...</td>\n",
       "      <td>0.041651</td>\n",
       "      <td>0.621789</td>\n",
       "      <td>0.223467</td>\n",
       "      <td>-0.770137</td>\n",
       "      <td>0.621182</td>\n",
       "      <td>-0.028738</td>\n",
       "      <td>0.505194</td>\n",
       "      <td>-1.898323</td>\n",
       "      <td>101.49</td>\n",
       "      <td>0</td>\n",
       "    </tr>\n",
       "  </tbody>\n",
       "</table>\n",
       "<p>10 rows × 31 columns</p>\n",
       "</div>"
      ],
      "text/plain": [
       "            Time         V1        V2         V3        V4         V5  \\\n",
       "43428    41505.0 -16.526507  8.584972 -18.649853  9.505594 -13.793819   \n",
       "49906    44261.0   0.339812 -2.743745  -0.134070 -1.385729  -1.451413   \n",
       "29474    35484.0   1.399590 -0.590701   0.168619 -1.029950  -0.539806   \n",
       "276481  167123.0  -0.432071  1.647895  -1.669361 -0.349504   0.785785   \n",
       "278846  168473.0   2.014160 -0.137394  -1.015839  0.327269  -0.182179   \n",
       "101565   67878.0  -0.641330 -0.057304   1.489998 -1.688131  -1.151043   \n",
       "260880  159763.0   2.023952 -0.120140  -1.086918  0.423019  -0.142901   \n",
       "214337  139631.0  -0.688944  1.292153  -0.564281 -1.457526   2.258333   \n",
       "201575  133944.0   2.119362  0.142639  -2.373337  0.541949   0.608419   \n",
       "81055    58769.0  -5.584256 -4.732413  -0.448452 -0.121442  -0.707412   \n",
       "\n",
       "              V6         V7        V8        V9  ...       V21       V22  \\\n",
       "43428  -2.832404 -16.701694  7.517344 -8.507059  ...  1.190739 -1.127670   \n",
       "49906   1.015887  -0.524379  0.224060  0.899746  ... -0.213436 -0.942525   \n",
       "29474   0.040444  -0.712567  0.002299 -0.971747  ...  0.102398  0.168269   \n",
       "276481 -0.630647   0.276990  0.586025 -0.484715  ...  0.358932  0.873663   \n",
       "278846 -0.956571   0.043241 -0.160746  0.363241  ... -0.238644 -0.616400   \n",
       "101565  0.259996  -1.391069 -2.334075  1.168644  ... -1.231634  0.257164   \n",
       "260880 -1.127752   0.178493 -0.303234  0.564509  ... -0.276175 -0.697708   \n",
       "214337 -0.323270   1.678984 -0.104128 -1.285351  ... -0.006880 -0.171568   \n",
       "201575 -1.775564   0.955775 -0.599383  0.010420  ...  0.264264  0.898266   \n",
       "81055  -0.114376  -1.554628  1.402126 -0.031693  ...  0.041651  0.621789   \n",
       "\n",
       "             V23       V24       V25       V26       V27       V28  Amount  \\\n",
       "43428  -2.358579  0.673461 -1.413700 -0.462762 -2.018575 -1.042804  364.19   \n",
       "49906  -0.526819 -1.156992  0.311211 -0.746647  0.040996  0.102038  520.12   \n",
       "29474  -0.166639 -0.810250  0.505083 -0.232340  0.011409  0.004634   31.00   \n",
       "276481 -0.178642 -0.017171 -0.207392 -0.157756 -0.237386  0.001934    1.50   \n",
       "278846  0.347045  0.061561 -0.360196  0.174730 -0.078043 -0.070571    0.89   \n",
       "101565 -0.371953 -0.038566  1.397514 -0.665947  0.031003  0.180357  100.00   \n",
       "260880  0.335631 -0.017196 -0.324904  0.200023 -0.071566 -0.058224   16.99   \n",
       "214337 -0.720019 -0.419435  1.211991  0.670916 -0.103986  0.030084    8.95   \n",
       "201575 -0.168063  0.059311  0.626949  0.729035 -0.129120 -0.094713   10.00   \n",
       "81055   0.223467 -0.770137  0.621182 -0.028738  0.505194 -1.898323  101.49   \n",
       "\n",
       "        Class  \n",
       "43428       1  \n",
       "49906       0  \n",
       "29474       0  \n",
       "276481      0  \n",
       "278846      0  \n",
       "101565      0  \n",
       "260880      0  \n",
       "214337      0  \n",
       "201575      0  \n",
       "81055       0  \n",
       "\n",
       "[10 rows x 31 columns]"
      ]
     },
     "execution_count": 29,
     "metadata": {},
     "output_type": "execute_result"
    }
   ],
   "source": [
    "test_df.head(10)"
   ]
  },
  {
   "cell_type": "code",
   "execution_count": null,
   "metadata": {},
   "outputs": [],
   "source": []
  },
  {
   "cell_type": "markdown",
   "metadata": {},
   "source": [
    "## Model generation"
   ]
  },
  {
   "cell_type": "code",
   "execution_count": 30,
   "metadata": {},
   "outputs": [],
   "source": [
    "#Usiamo Random Forest\n",
    "from sklearn.ensemble import RandomForestClassifier"
   ]
  },
  {
   "cell_type": "code",
   "execution_count": 31,
   "metadata": {},
   "outputs": [],
   "source": [
    "etichetta = 'Class'\n",
    "predictors = ['Time', 'V1', 'V2', 'V3', 'V4', 'V5', 'V6', 'V7', 'V8', 'V9', 'V10','V11', 'V12', 'V13', 'V14', 'V15', 'V16', 'V17', 'V18', 'V19',\\\n",
    "       'V20', 'V21', 'V22', 'V23', 'V24', 'V25', 'V26', 'V27', 'V28', 'Amount']"
   ]
  },
  {
   "cell_type": "code",
   "execution_count": 32,
   "metadata": {},
   "outputs": [],
   "source": [
    "train_X = train_df[predictors] #Dati storici per il training\n",
    "train_Y = train_df[etichetta].values #Etichette per il training"
   ]
  },
  {
   "cell_type": "code",
   "execution_count": 33,
   "metadata": {},
   "outputs": [],
   "source": [
    "#Configurazione del modello Random Forest\n",
    "\n",
    "RFC_METRIC = 'gini'  #metric used for RandomForrestClassifier\n",
    "NUM_ESTIMATORS = 100 #number of estimators used for RandomForrestClassifier\n",
    "NO_JOBS = 4 #number of parallel jobs used for RandomForrestClassifier\n",
    "\n",
    "clf = RandomForestClassifier(n_jobs=NO_JOBS, \n",
    "                             random_state=42,\n",
    "                             criterion=RFC_METRIC,\n",
    "                             n_estimators=NUM_ESTIMATORS,\n",
    "                             verbose=True)"
   ]
  },
  {
   "cell_type": "code",
   "execution_count": 34,
   "metadata": {},
   "outputs": [
    {
     "name": "stderr",
     "output_type": "stream",
     "text": [
      "[Parallel(n_jobs=4)]: Using backend ThreadingBackend with 4 concurrent workers.\n",
      "[Parallel(n_jobs=4)]: Done  42 tasks      | elapsed:   30.4s\n",
      "[Parallel(n_jobs=4)]: Done 100 out of 100 | elapsed:  1.3min finished\n"
     ]
    },
    {
     "data": {
      "text/plain": [
       "RandomForestClassifier(bootstrap=True, class_weight=None, criterion='gini',\n",
       "                       max_depth=None, max_features='auto', max_leaf_nodes=None,\n",
       "                       min_impurity_decrease=0.0, min_impurity_split=None,\n",
       "                       min_samples_leaf=1, min_samples_split=2,\n",
       "                       min_weight_fraction_leaf=0.0, n_estimators=100, n_jobs=4,\n",
       "                       oob_score=False, random_state=42, verbose=True,\n",
       "                       warm_start=False)"
      ]
     },
     "execution_count": 34,
     "metadata": {},
     "output_type": "execute_result"
    }
   ],
   "source": [
    "#Effettua il training!\n",
    "clf.fit(train_X, train_Y)"
   ]
  },
  {
   "cell_type": "code",
   "execution_count": 35,
   "metadata": {},
   "outputs": [],
   "source": [
    "#Organizza i dati di test\n",
    "test_X = test_df[predictors] #Ecco dei \"nuovi\" dati!\n",
    "test_Y = test_df[etichetta].values #Etichette per il testing"
   ]
  },
  {
   "cell_type": "code",
   "execution_count": 36,
   "metadata": {},
   "outputs": [
    {
     "name": "stderr",
     "output_type": "stream",
     "text": [
      "[Parallel(n_jobs=4)]: Using backend ThreadingBackend with 4 concurrent workers.\n",
      "[Parallel(n_jobs=4)]: Done  42 tasks      | elapsed:    0.0s\n",
      "[Parallel(n_jobs=4)]: Done 100 out of 100 | elapsed:    0.1s finished\n"
     ]
    },
    {
     "data": {
      "text/plain": [
       "array([1, 0, 0, ..., 0, 0, 0], dtype=int64)"
      ]
     },
     "execution_count": 36,
     "metadata": {},
     "output_type": "execute_result"
    }
   ],
   "source": [
    "#Proviamo il modello sui \"nuovi dati\"\n",
    "preds = clf.predict(test_X[predictors])\n",
    "preds"
   ]
  },
  {
   "cell_type": "markdown",
   "metadata": {},
   "source": [
    "## Model evaluation (basics)"
   ]
  },
  {
   "cell_type": "code",
   "execution_count": null,
   "metadata": {},
   "outputs": [],
   "source": [
    "#Questo NON è il modo canonico di valutare un modello ma è utile per capire alcune cose :-)"
   ]
  },
  {
   "cell_type": "code",
   "execution_count": 37,
   "metadata": {},
   "outputs": [
    {
     "name": "stdout",
     "output_type": "stream",
     "text": [
      "% Valori predetti correttamente: 0.9995435553526912\n"
     ]
    }
   ],
   "source": [
    "#Compara le etichette reali e le etichette determinate dal modello\n",
    "count=0\n",
    "count_ones=0\n",
    "for i in range(0, len(test_Y)-1):\n",
    "    if (test_Y[i]==preds[i]):#quanti ne ho indovinati?\n",
    "        count=count+1\n",
    "print(\"% Valori predetti correttamente: \" + str(count/test_Y.size))"
   ]
  },
  {
   "cell_type": "code",
   "execution_count": 38,
   "metadata": {},
   "outputs": [
    {
     "name": "stdout",
     "output_type": "stream",
     "text": [
      "Transazioni malevole nel testing set:98\n",
      "Transazioni malevole predette correttamente:75\n",
      "% Transazioni malevole scovate: 0.7653061224489796\n"
     ]
    }
   ],
   "source": [
    "#Compara le etichette reali e le etichette determinate dal modello\n",
    "count=0\n",
    "count_ones=0\n",
    "count_ones_ok=0\n",
    "for i in range(0, len(test_Y)-1):\n",
    "    if (test_Y[i]==1):#quante frodi ci sono?\n",
    "        count_ones+=1\n",
    "    if ((test_Y[i]==1) and (test_Y[i]==preds[i])): #quanti ne ho indovinati tra le frodi?\n",
    "        count_ones_ok+=1\n",
    "print(\"Transazioni malevole nel testing set:\" + str(count_ones))\n",
    "print(\"Transazioni malevole predette correttamente:\" + str(count_ones_ok))\n",
    "print(\"% Transazioni malevole scovate: \" + str(count_ones_ok/count_ones))"
   ]
  },
  {
   "cell_type": "code",
   "execution_count": null,
   "metadata": {},
   "outputs": [],
   "source": []
  }
 ],
 "metadata": {
  "kernelspec": {
   "display_name": "Python 3",
   "language": "python",
   "name": "python3"
  },
  "language_info": {
   "codemirror_mode": {
    "name": "ipython",
    "version": 3
   },
   "file_extension": ".py",
   "mimetype": "text/x-python",
   "name": "python",
   "nbconvert_exporter": "python",
   "pygments_lexer": "ipython3",
   "version": "3.7.5"
  }
 },
 "nbformat": 4,
 "nbformat_minor": 2
}
