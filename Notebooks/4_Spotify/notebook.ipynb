{
 "cells": [
  {
   "cell_type": "code",
   "execution_count": null,
   "metadata": {
    "ExecuteTime": {
     "end_time": "2020-12-30T18:42:50.639018Z",
     "start_time": "2020-12-30T18:42:50.550297Z"
    }
   },
   "outputs": [],
   "source": [
    "import sys\n",
    "import matplotlib.pyplot as plt\n",
    "import numpy as np\n",
    "import pandas as pd\n",
    "from sklearn.preprocessing import StandardScaler\n",
    "from sklearn.preprocessing import MinMaxScaler\n",
    "from sklearn.decomposition import PCA\n",
    "from sklearn.cluster import KMeans\n",
    "import seaborn as sns\n",
    "\n",
    "from yellowbrick.cluster import KElbowVisualizer\n",
    "from kneed import KneeLocator\n",
    "\n",
    "sns.set()"
   ]
  },
  {
   "cell_type": "code",
   "execution_count": null,
   "metadata": {},
   "outputs": [],
   "source": [
    "#Data downloaded from kaggle: https://www.kaggle.com/yamaerenay/spotify-dataset-19212020-160k-tracks"
   ]
  },
  {
   "cell_type": "markdown",
   "metadata": {},
   "source": [
    "## Principal Component Analysis (PCA)"
   ]
  },
  {
   "cell_type": "code",
   "execution_count": null,
   "metadata": {
    "ExecuteTime": {
     "end_time": "2020-12-30T18:43:43.549226Z",
     "start_time": "2020-12-30T18:43:43.525843Z"
    }
   },
   "outputs": [],
   "source": [
    "df_X = pd.read_csv(\"data.csv\")\n",
    "non_features = ['year', 'artists', 'duration_ms', 'explicit','id','key','mode','name','release_date','popularity']\n",
    "df_X = df_X.drop(columns=non_features)\n",
    "df_X.head()"
   ]
  },
  {
   "cell_type": "code",
   "execution_count": null,
   "metadata": {},
   "outputs": [],
   "source": [
    "df_X = df_X [['acousticness','danceability','energy','instrumentalness','liveness','loudness','speechiness','tempo','valence']]\n",
    "df_X.shape\n",
    "#Speed up testing\n",
    "#df_X = df.sample(frac=0.05)"
   ]
  },
  {
   "cell_type": "code",
   "execution_count": null,
   "metadata": {
    "ExecuteTime": {
     "end_time": "2020-12-30T18:43:44.633367Z",
     "start_time": "2020-12-30T18:43:44.615218Z"
    }
   },
   "outputs": [],
   "source": [
    "scaler = StandardScaler()\n",
    "X_std = scaler.fit_transform(df_X)"
   ]
  },
  {
   "cell_type": "code",
   "execution_count": null,
   "metadata": {
    "ExecuteTime": {
     "end_time": "2020-12-30T18:43:45.777676Z",
     "start_time": "2020-12-30T18:43:45.765283Z"
    }
   },
   "outputs": [],
   "source": [
    "pca = PCA()\n",
    "pca.fit(X_std);"
   ]
  },
  {
   "cell_type": "code",
   "execution_count": null,
   "metadata": {
    "ExecuteTime": {
     "end_time": "2020-12-30T18:43:46.835352Z",
     "start_time": "2020-12-30T18:43:46.830992Z"
    }
   },
   "outputs": [],
   "source": [
    "# The attribute shows how much variance is explained by each of the nine features\n",
    "evr = pca.explained_variance_ratio_\n",
    "evr"
   ]
  },
  {
   "cell_type": "code",
   "execution_count": null,
   "metadata": {
    "ExecuteTime": {
     "end_time": "2020-12-30T18:43:48.324192Z",
     "start_time": "2020-12-30T18:43:47.832187Z"
    }
   },
   "outputs": [],
   "source": [
    "fig = plt.figure(figsize=(10,8))\n",
    "plt.plot(range(1, len(df_X.columns)+1), evr.cumsum(), marker='o', linestyle='--')\n",
    "plt.xlabel('Number of Components', fontsize=18)\n",
    "plt.ylabel('Cumulative Explained Variance',fontsize=18)\n",
    "plt.xticks(fontsize=16)\n",
    "plt.yticks(fontsize=16)\n",
    "fig = plt.savefig(\"./visualizations/cumulative_variance_plot.png\")\n",
    "plt.show()"
   ]
  },
  {
   "cell_type": "code",
   "execution_count": null,
   "metadata": {
    "ExecuteTime": {
     "end_time": "2020-12-30T18:43:49.436769Z",
     "start_time": "2020-12-30T18:43:49.429610Z"
    }
   },
   "outputs": [],
   "source": [
    "for i, exp_var in enumerate(evr.cumsum()):\n",
    "    if exp_var >= 0.8:\n",
    "        n_comps = i + 1\n",
    "        break\n",
    "print(\"Number of components:\", n_comps)\n",
    "pca = PCA(n_components=n_comps)\n",
    "pca.fit(X_std)\n",
    "scores_pca = pca.transform(X_std)"
   ]
  },
  {
   "cell_type": "markdown",
   "metadata": {},
   "source": [
    "## K-Means Clustering"
   ]
  },
  {
   "cell_type": "markdown",
   "metadata": {},
   "source": [
    "Finding the elbow point of the WCSS (within cluster sum of squares) curve using the YellowBrick `KElbowVisualizer`"
   ]
  },
  {
   "cell_type": "code",
   "execution_count": null,
   "metadata": {
    "ExecuteTime": {
     "end_time": "2020-12-30T18:44:03.391533Z",
     "start_time": "2020-12-30T18:44:01.532796Z"
    }
   },
   "outputs": [],
   "source": [
    "#Optimal n_cluster: version 1\n",
    "#visualizer = KElbowVisualizer(KMeans(init='k-means++', random_state=42), k=(1,21), timings=False)\n",
    "#visualizer.fit(scores_pca)\n",
    "#visualizer.show()\n",
    "#n_clusters = visualizer.elbow_value_\n",
    "#print(\"Optimal number of clusters:\", n_clusters)"
   ]
  },
  {
   "cell_type": "markdown",
   "metadata": {},
   "source": [
    "Finding the elbow point of the WCSS (within cluster sum of squares) curve using the kneed `KneeLocator`"
   ]
  },
  {
   "cell_type": "code",
   "execution_count": null,
   "metadata": {
    "ExecuteTime": {
     "end_time": "2020-12-30T18:47:40.120025Z",
     "start_time": "2020-12-30T18:47:38.694854Z"
    }
   },
   "outputs": [],
   "source": [
    "#Optimal n_cluster: version 2\n",
    "#wcss = []\n",
    "#max_clusters = 21\n",
    "#for i in range(1, max_clusters):\n",
    "#    kmeans_pca = KMeans(i, init='k-means++', random_state=42)\n",
    "#    kmeans_pca.fit(scores_pca)\n",
    "#    wcss.append(kmeans_pca.inertia_)\n",
    "#n_clusters = KneeLocator([i for i in range(1, max_clusters)], wcss, curve='convex', direction='decreasing').knee\n",
    "#print(\"Optimal number of clusters\", n_clusters)\n",
    "\n",
    "#fig = plt.figure(figsize=(10,8))\n",
    "#plt.plot(range(1, 21), wcss, marker='o', linestyle='--')\n",
    "#plt.vlines(KneeLocator([i for i in range(1, max_clusters)], wcss, curve='convex', direction='decreasing').knee, ymin=min(wcss), ymax=max(wcss), linestyles='dashed')\n",
    "#plt.xlabel('Number of Clusters', fontsize=18)\n",
    "#plt.ylabel('Within Cluster Sum of Squares (WCSS)', fontsize=18)\n",
    "#plt.xticks(fontsize=16)\n",
    "#plt.yticks(fontsize=16)\n",
    "#fig.savefig(\"./visualizations/num_clusters.png\")\n",
    "#plt.show()\n"
   ]
  },
  {
   "cell_type": "code",
   "execution_count": null,
   "metadata": {
    "ExecuteTime": {
     "end_time": "2020-12-30T18:48:57.049834Z",
     "start_time": "2020-12-30T18:48:56.497330Z"
    }
   },
   "outputs": [],
   "source": [
    "n_clusters = 6"
   ]
  },
  {
   "cell_type": "code",
   "execution_count": null,
   "metadata": {
    "ExecuteTime": {
     "end_time": "2020-12-30T18:59:53.909451Z",
     "start_time": "2020-12-30T18:59:53.738239Z"
    }
   },
   "outputs": [],
   "source": [
    "kmeans_pca = KMeans(n_clusters=n_clusters, init='k-means++', random_state=42)\n",
    "kmeans_pca.fit(scores_pca);"
   ]
  },
  {
   "cell_type": "markdown",
   "metadata": {},
   "source": [
    "## Analysis and Visualization"
   ]
  },
  {
   "cell_type": "code",
   "execution_count": null,
   "metadata": {
    "ExecuteTime": {
     "end_time": "2020-12-30T19:00:03.451523Z",
     "start_time": "2020-12-30T19:00:03.389167Z"
    }
   },
   "outputs": [],
   "source": [
    "df_seg_pca_kmeans = pd.concat([df_X.reset_index(drop=True), pd.DataFrame(scores_pca)], axis=1)\n",
    "df_seg_pca_kmeans.columns.values[(-1*n_comps):] = [\"Component \" + str(i+1) for i in range(n_comps)]\n",
    "df_seg_pca_kmeans['Cluster'] = kmeans_pca.labels_\n",
    "df_seg_pca_kmeans.head()"
   ]
  },
  {
   "cell_type": "code",
   "execution_count": null,
   "metadata": {},
   "outputs": [],
   "source": [
    "df_seg_pca_kmeans.head(5)"
   ]
  },
  {
   "cell_type": "code",
   "execution_count": null,
   "metadata": {
    "ExecuteTime": {
     "end_time": "2020-12-30T19:01:03.255191Z",
     "start_time": "2020-12-30T19:01:02.538360Z"
    }
   },
   "outputs": [],
   "source": [
    "x = df_seg_pca_kmeans['Component 2']\n",
    "y = df_seg_pca_kmeans['Component 1']\n",
    "fig = plt.figure(figsize=(10, 8))\n",
    "sns.scatterplot(x, y, hue=df_seg_pca_kmeans['Cluster'], palette = ['tab:blue', 'tab:orange', 'tab:green', 'tab:red', 'goldenrod', 'tab:cyan'])\n",
    "plt.title('Clusters by PCA Components', fontsize=20)\n",
    "plt.xlabel(\"Component 2\", fontsize=18)\n",
    "plt.ylabel(\"Component 1\", fontsize=18)\n",
    "plt.xticks(fontsize=16)\n",
    "plt.yticks(fontsize=16)\n",
    "plt.show()\n",
    "#fig.savefig(\"./visualizations/clusters-2d.png\")"
   ]
  },
  {
   "cell_type": "code",
   "execution_count": null,
   "metadata": {
    "ExecuteTime": {
     "end_time": "2020-12-30T19:01:05.002189Z",
     "start_time": "2020-12-30T19:01:04.972783Z"
    }
   },
   "outputs": [],
   "source": [
    "df_X['Cluster'] = df_seg_pca_kmeans['Cluster']\n",
    "df_X"
   ]
  },
  {
   "cell_type": "code",
   "execution_count": null,
   "metadata": {},
   "outputs": [],
   "source": [
    "import plotly.graph_objects as go\n",
    "from plotly.subplots import make_subplots"
   ]
  },
  {
   "cell_type": "code",
   "execution_count": null,
   "metadata": {
    "ExecuteTime": {
     "end_time": "2020-12-30T19:03:04.105284Z",
     "start_time": "2020-12-30T19:03:03.932193Z"
    }
   },
   "outputs": [],
   "source": [
    "fig = make_subplots(rows=2, cols=4, specs=[[{'type': 'polar'}]*4]*2)\n",
    "\n",
    "angles = list(df_X.columns[0:9])\n",
    "angles.append(angles[0])\n",
    "abbrev = [\"A\", \"D\", \"E\", \"I\", \"Li\", \"Lo\", \"S\", \"T\", \"V\", \"A\"]\n",
    "\n",
    "layoutdict = dict(\n",
    "            radialaxis=dict(\n",
    "            visible=True,\n",
    "            range=[0, 1]\n",
    "            ))\n",
    "\n",
    "for i in range(n_clusters):\n",
    "    subset = df_X[df_X['Cluster'] == i]\n",
    "    data = [np.mean(subset[col]) for col in subset.columns[4:]]\n",
    "    data.append(data[0])\n",
    "    fig.add_trace(go.Scatterpolar(\n",
    "        r=data,\n",
    "        theta=abbrev,\n",
    "        fill='toself',\n",
    "        name=\"Cluster \" + str(i)),\n",
    "        i // 4 + 1,\n",
    "        i % 4 + 1)\n",
    "    \n",
    "fig.update_layout(\n",
    "        polar=layoutdict,\n",
    "        polar2=layoutdict,\n",
    "        polar3=layoutdict,\n",
    "        polar4=layoutdict,\n",
    "        polar5=layoutdict,\n",
    "        polar6=layoutdict,\n",
    "        polar7=layoutdict,\n",
    "        polar8=layoutdict,\n",
    "        showlegend=True\n",
    "        )\n",
    "fig.show()\n",
    "#     fig.write_image('./visualizations/cluster' + str(i) + '.png')"
   ]
  },
  {
   "cell_type": "code",
   "execution_count": null,
   "metadata": {
    "ExecuteTime": {
     "end_time": "2020-12-30T19:03:16.896047Z",
     "start_time": "2020-12-30T19:03:16.824625Z"
    }
   },
   "outputs": [],
   "source": [
    "fig = go.Figure()\n",
    "\n",
    "angles = list(df_X.columns[0:9])\n",
    "angles.append(angles[0])\n",
    "\n",
    "layoutdict = dict(\n",
    "            radialaxis=dict(\n",
    "            visible=True,\n",
    "            range=[0, 1]\n",
    "            ))\n",
    "\n",
    "for i in range(n_clusters):\n",
    "    subset = df_X[df_X['Cluster'] == i]\n",
    "    data = [np.mean(subset[col]) for col in subset.columns[4:]]\n",
    "    data.append(data[0])\n",
    "    fig.add_trace(go.Scatterpolar(\n",
    "        r=data,\n",
    "        theta=angles,\n",
    "        fill='toself',\n",
    "        name=\"Cluster \" + str(i)))\n",
    "    \n",
    "fig.update_layout(\n",
    "        polar=layoutdict,\n",
    "        showlegend=True\n",
    "        )\n",
    "fig.show()\n",
    "#     fig.write_image('./visualizations/cluster' + str(i) + '.png')"
   ]
  },
  {
   "cell_type": "code",
   "execution_count": null,
   "metadata": {
    "ExecuteTime": {
     "end_time": "2020-12-30T19:03:21.487208Z",
     "start_time": "2020-12-30T19:03:21.054720Z"
    }
   },
   "outputs": [],
   "source": [
    "def inspect(df, param, cluster):\n",
    "    plt.figure(figsize=(10,8))\n",
    "    test_cluster = df.loc[df['Cluster'] == cluster]\n",
    "    y = test_cluster[param]\n",
    "    x = [i for i in range(len(y))]\n",
    "    plt.bar(x, y)\n",
    "    plt.xlabel('Track #', fontsize=18)\n",
    "    plt.ylabel(param.title(), fontsize=18)\n",
    "    plt.xticks(fontsize=16)\n",
    "    plt.yticks(fontsize=16)\n",
    "    plt.hlines(np.mean(df[param]), 0, len(y))\n",
    "    plt.show()\n",
    "    \n",
    "inspect(df_X, \"liveness\", 4)"
   ]
  },
  {
   "cell_type": "code",
   "execution_count": null,
   "metadata": {
    "ExecuteTime": {
     "end_time": "2020-12-30T19:03:59.295406Z",
     "start_time": "2020-12-30T19:03:54.114079Z"
    }
   },
   "outputs": [],
   "source": [
    "clusters = [2, 4, 5]\n",
    "features = [\"acousticness\", \"speechiness\", \"instrumentalness\"]\n",
    "colors = ['tab:green', 'tab:olive', 'tab:cyan']\n",
    "dim = len(clusters)\n",
    "\n",
    "fig, axes = plt.subplots(dim, dim, figsize=(24, 12))\n",
    "i = 0\n",
    "test_cluster = df_X.loc[df_X['Cluster'] == clusters[0]]\n",
    "for ax in (axes.flatten()):\n",
    "    if i % dim == 0 and i != 0:\n",
    "        test_cluster = df_X.loc[df_X['Cluster'] == clusters[i // dim]]\n",
    "    col = features[i % dim]\n",
    "    y = test_cluster[col]\n",
    "    x = [i for i in range(len(y))]\n",
    "    ax.bar(x, y, color=colors[i//dim])\n",
    "    ax.set_ylabel(col, fontsize=14)\n",
    "    ax.set_title(\"Cluster \" + str(clusters[i // dim]), fontsize=16)\n",
    "    ax.hlines(np.mean(df_X[col]), 0, len(y))\n",
    "    plt.subplots_adjust(wspace=.5, hspace=.5)\n",
    "    i += 1\n",
    "    \n",
    "#fig.savefig(\"./visualizations/cluster_feature_bar_charts_dim_3.png\")"
   ]
  },
  {
   "cell_type": "code",
   "execution_count": null,
   "metadata": {
    "ExecuteTime": {
     "end_time": "2020-12-30T19:04:10.483114Z",
     "start_time": "2020-12-30T19:04:10.415163Z"
    }
   },
   "outputs": [],
   "source": [
    "preview = df_X.loc[df_X['Cluster'] == 5]\n",
    "print(len(preview))\n",
    "preview.head(n=50)"
   ]
  },
  {
   "cell_type": "code",
   "execution_count": null,
   "metadata": {},
   "outputs": [],
   "source": []
  }
 ],
 "metadata": {
  "kernelspec": {
   "display_name": "Python 3",
   "language": "python",
   "name": "python3"
  },
  "language_info": {
   "codemirror_mode": {
    "name": "ipython",
    "version": 3
   },
   "file_extension": ".py",
   "mimetype": "text/x-python",
   "name": "python",
   "nbconvert_exporter": "python",
   "pygments_lexer": "ipython3",
   "version": "3.8.5"
  },
  "toc": {
   "base_numbering": 1,
   "nav_menu": {},
   "number_sections": false,
   "sideBar": true,
   "skip_h1_title": false,
   "title_cell": "Table of Contents",
   "title_sidebar": "Contents",
   "toc_cell": false,
   "toc_position": {},
   "toc_section_display": true,
   "toc_window_display": false
  },
  "varInspector": {
   "cols": {
    "lenName": 16,
    "lenType": 16,
    "lenVar": 40
   },
   "kernels_config": {
    "python": {
     "delete_cmd_postfix": "",
     "delete_cmd_prefix": "del ",
     "library": "var_list.py",
     "varRefreshCmd": "print(var_dic_list())"
    },
    "r": {
     "delete_cmd_postfix": ") ",
     "delete_cmd_prefix": "rm(",
     "library": "var_list.r",
     "varRefreshCmd": "cat(var_dic_list()) "
    }
   },
   "types_to_exclude": [
    "module",
    "function",
    "builtin_function_or_method",
    "instance",
    "_Feature"
   ],
   "window_display": false
  }
 },
 "nbformat": 4,
 "nbformat_minor": 2
}
