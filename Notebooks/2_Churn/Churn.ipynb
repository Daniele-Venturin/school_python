{
 "cells": [
  {
   "cell_type": "code",
   "execution_count": 9,
   "metadata": {},
   "outputs": [],
   "source": [
    "import pandas as pd\n",
    "import numpy as np\n",
    "import matplotlib.pyplot as plt\n",
    "import seaborn as sns\n",
    "%matplotlib inline\n",
    "plt.rcParams[\"figure.figsize\"]=(15,5)\n",
    "from sklearn.metrics import accuracy_score\n",
    "from sklearn import metrics\n",
    "from sklearn.metrics import confusion_matrix"
   ]
  },
  {
   "cell_type": "code",
   "execution_count": 10,
   "metadata": {},
   "outputs": [
    {
     "data": {
      "text/html": [
       "<div>\n",
       "<style scoped>\n",
       "    .dataframe tbody tr th:only-of-type {\n",
       "        vertical-align: middle;\n",
       "    }\n",
       "\n",
       "    .dataframe tbody tr th {\n",
       "        vertical-align: top;\n",
       "    }\n",
       "\n",
       "    .dataframe thead th {\n",
       "        text-align: right;\n",
       "    }\n",
       "</style>\n",
       "<table border=\"1\" class=\"dataframe\">\n",
       "  <thead>\n",
       "    <tr style=\"text-align: right;\">\n",
       "      <th></th>\n",
       "      <th>State</th>\n",
       "      <th>Account_Len</th>\n",
       "      <th>Area</th>\n",
       "      <th>Ph_No.</th>\n",
       "      <th>Int_Plan</th>\n",
       "      <th>Vmail_Plan</th>\n",
       "      <th>messgs</th>\n",
       "      <th>tot_day_mins</th>\n",
       "      <th>tot_day_calls</th>\n",
       "      <th>tot_day_chrgs</th>\n",
       "      <th>...</th>\n",
       "      <th>tot_evening_calls</th>\n",
       "      <th>tot_evening_chrgs</th>\n",
       "      <th>tot_ngt_mins</th>\n",
       "      <th>tot_ngt_calls</th>\n",
       "      <th>tot_ngt_chrgs</th>\n",
       "      <th>tot_int_mins</th>\n",
       "      <th>tot_int_calls</th>\n",
       "      <th>tot_int_chrgs</th>\n",
       "      <th>cust_calls_made</th>\n",
       "      <th>churn_status</th>\n",
       "    </tr>\n",
       "  </thead>\n",
       "  <tbody>\n",
       "    <tr>\n",
       "      <th>0</th>\n",
       "      <td>KS</td>\n",
       "      <td>128</td>\n",
       "      <td>415</td>\n",
       "      <td>382-4657</td>\n",
       "      <td>no</td>\n",
       "      <td>yes</td>\n",
       "      <td>25</td>\n",
       "      <td>265.1</td>\n",
       "      <td>110</td>\n",
       "      <td>45.07</td>\n",
       "      <td>...</td>\n",
       "      <td>99</td>\n",
       "      <td>16.78</td>\n",
       "      <td>244.7</td>\n",
       "      <td>91</td>\n",
       "      <td>11.01</td>\n",
       "      <td>10.0</td>\n",
       "      <td>3</td>\n",
       "      <td>2.70</td>\n",
       "      <td>1</td>\n",
       "      <td>False.</td>\n",
       "    </tr>\n",
       "    <tr>\n",
       "      <th>1</th>\n",
       "      <td>OH</td>\n",
       "      <td>107</td>\n",
       "      <td>415</td>\n",
       "      <td>371-7191</td>\n",
       "      <td>no</td>\n",
       "      <td>yes</td>\n",
       "      <td>26</td>\n",
       "      <td>161.6</td>\n",
       "      <td>123</td>\n",
       "      <td>27.47</td>\n",
       "      <td>...</td>\n",
       "      <td>103</td>\n",
       "      <td>16.62</td>\n",
       "      <td>254.4</td>\n",
       "      <td>103</td>\n",
       "      <td>11.45</td>\n",
       "      <td>13.7</td>\n",
       "      <td>3</td>\n",
       "      <td>3.70</td>\n",
       "      <td>1</td>\n",
       "      <td>False.</td>\n",
       "    </tr>\n",
       "    <tr>\n",
       "      <th>2</th>\n",
       "      <td>NJ</td>\n",
       "      <td>137</td>\n",
       "      <td>415</td>\n",
       "      <td>358-1921</td>\n",
       "      <td>no</td>\n",
       "      <td>no</td>\n",
       "      <td>0</td>\n",
       "      <td>243.4</td>\n",
       "      <td>114</td>\n",
       "      <td>41.38</td>\n",
       "      <td>...</td>\n",
       "      <td>110</td>\n",
       "      <td>10.30</td>\n",
       "      <td>162.6</td>\n",
       "      <td>104</td>\n",
       "      <td>7.32</td>\n",
       "      <td>12.2</td>\n",
       "      <td>5</td>\n",
       "      <td>3.29</td>\n",
       "      <td>0</td>\n",
       "      <td>False.</td>\n",
       "    </tr>\n",
       "    <tr>\n",
       "      <th>3</th>\n",
       "      <td>OH</td>\n",
       "      <td>84</td>\n",
       "      <td>408</td>\n",
       "      <td>375-9999</td>\n",
       "      <td>yes</td>\n",
       "      <td>no</td>\n",
       "      <td>0</td>\n",
       "      <td>299.4</td>\n",
       "      <td>71</td>\n",
       "      <td>50.90</td>\n",
       "      <td>...</td>\n",
       "      <td>88</td>\n",
       "      <td>5.26</td>\n",
       "      <td>196.9</td>\n",
       "      <td>89</td>\n",
       "      <td>8.86</td>\n",
       "      <td>6.6</td>\n",
       "      <td>7</td>\n",
       "      <td>1.78</td>\n",
       "      <td>2</td>\n",
       "      <td>False.</td>\n",
       "    </tr>\n",
       "    <tr>\n",
       "      <th>4</th>\n",
       "      <td>OK</td>\n",
       "      <td>75</td>\n",
       "      <td>415</td>\n",
       "      <td>330-6626</td>\n",
       "      <td>yes</td>\n",
       "      <td>no</td>\n",
       "      <td>0</td>\n",
       "      <td>166.7</td>\n",
       "      <td>113</td>\n",
       "      <td>28.34</td>\n",
       "      <td>...</td>\n",
       "      <td>122</td>\n",
       "      <td>12.61</td>\n",
       "      <td>186.9</td>\n",
       "      <td>121</td>\n",
       "      <td>8.41</td>\n",
       "      <td>10.1</td>\n",
       "      <td>3</td>\n",
       "      <td>2.73</td>\n",
       "      <td>3</td>\n",
       "      <td>False.</td>\n",
       "    </tr>\n",
       "  </tbody>\n",
       "</table>\n",
       "<p>5 rows × 21 columns</p>\n",
       "</div>"
      ],
      "text/plain": [
       "  State  Account_Len  Area    Ph_No. Int_Plan Vmail_Plan  messgs  \\\n",
       "0    KS          128   415  382-4657       no        yes      25   \n",
       "1    OH          107   415  371-7191       no        yes      26   \n",
       "2    NJ          137   415  358-1921       no         no       0   \n",
       "3    OH           84   408  375-9999      yes         no       0   \n",
       "4    OK           75   415  330-6626      yes         no       0   \n",
       "\n",
       "   tot_day_mins  tot_day_calls  tot_day_chrgs  ...  tot_evening_calls  \\\n",
       "0         265.1            110          45.07  ...                 99   \n",
       "1         161.6            123          27.47  ...                103   \n",
       "2         243.4            114          41.38  ...                110   \n",
       "3         299.4             71          50.90  ...                 88   \n",
       "4         166.7            113          28.34  ...                122   \n",
       "\n",
       "   tot_evening_chrgs  tot_ngt_mins  tot_ngt_calls  tot_ngt_chrgs  \\\n",
       "0              16.78         244.7             91          11.01   \n",
       "1              16.62         254.4            103          11.45   \n",
       "2              10.30         162.6            104           7.32   \n",
       "3               5.26         196.9             89           8.86   \n",
       "4              12.61         186.9            121           8.41   \n",
       "\n",
       "   tot_int_mins  tot_int_calls  tot_int_chrgs  cust_calls_made  churn_status  \n",
       "0          10.0              3           2.70                1        False.  \n",
       "1          13.7              3           3.70                1        False.  \n",
       "2          12.2              5           3.29                0        False.  \n",
       "3           6.6              7           1.78                2        False.  \n",
       "4          10.1              3           2.73                3        False.  \n",
       "\n",
       "[5 rows x 21 columns]"
      ]
     },
     "execution_count": 10,
     "metadata": {},
     "output_type": "execute_result"
    }
   ],
   "source": [
    "columns =['State','Account_Len','Area','Ph_No.','Int_Plan','Vmail_Plan','messgs',\n",
    "            'tot_day_mins','tot_day_calls','tot_day_chrgs','tot_evening_mins',\n",
    "            'tot_evening_calls','tot_evening_chrgs','tot_ngt_mins','tot_ngt_calls',\n",
    "            'tot_ngt_chrgs','tot_int_mins','tot_int_calls','tot_int_chrgs',\n",
    "'cust_calls_made','churn_status']\n",
    "\n",
    "Tel_Churn = pd.read_csv(\"churn.txt\",names=columns)\n",
    "\n",
    "Tel_Churn.head()"
   ]
  },
  {
   "cell_type": "code",
   "execution_count": 11,
   "metadata": {},
   "outputs": [],
   "source": [
    "#Data pre-processing: from strings to numbers\n",
    "from sklearn import preprocessing\n",
    "\n",
    "le = preprocessing.LabelEncoder()\n",
    "le.fit([\"False.\", \"True.\"])\n",
    "Tel_Churn[\"churn_status\"]  = le.transform(Tel_Churn[\"churn_status\"])\n",
    "\n",
    "le = preprocessing.LabelEncoder()\n",
    "le.fit([\"yes\", \"no\"])\n",
    "Tel_Churn[\"Int_Plan\"]  = le.transform(Tel_Churn[\"Int_Plan\"])\n",
    "\n",
    "le = preprocessing.LabelEncoder()\n",
    "le.fit([\"yes\", \"no\"])\n",
    "Tel_Churn[\"Vmail_Plan\"]  = le.transform(Tel_Churn[\"Vmail_Plan\"])"
   ]
  },
  {
   "cell_type": "code",
   "execution_count": 12,
   "metadata": {},
   "outputs": [
    {
     "data": {
      "text/html": [
       "<div>\n",
       "<style scoped>\n",
       "    .dataframe tbody tr th:only-of-type {\n",
       "        vertical-align: middle;\n",
       "    }\n",
       "\n",
       "    .dataframe tbody tr th {\n",
       "        vertical-align: top;\n",
       "    }\n",
       "\n",
       "    .dataframe thead th {\n",
       "        text-align: right;\n",
       "    }\n",
       "</style>\n",
       "<table border=\"1\" class=\"dataframe\">\n",
       "  <thead>\n",
       "    <tr style=\"text-align: right;\">\n",
       "      <th></th>\n",
       "      <th>State</th>\n",
       "      <th>Account_Len</th>\n",
       "      <th>Area</th>\n",
       "      <th>Ph_No.</th>\n",
       "      <th>Int_Plan</th>\n",
       "      <th>Vmail_Plan</th>\n",
       "      <th>messgs</th>\n",
       "      <th>tot_day_mins</th>\n",
       "      <th>tot_day_calls</th>\n",
       "      <th>tot_day_chrgs</th>\n",
       "      <th>...</th>\n",
       "      <th>tot_evening_calls</th>\n",
       "      <th>tot_evening_chrgs</th>\n",
       "      <th>tot_ngt_mins</th>\n",
       "      <th>tot_ngt_calls</th>\n",
       "      <th>tot_ngt_chrgs</th>\n",
       "      <th>tot_int_mins</th>\n",
       "      <th>tot_int_calls</th>\n",
       "      <th>tot_int_chrgs</th>\n",
       "      <th>cust_calls_made</th>\n",
       "      <th>churn_status</th>\n",
       "    </tr>\n",
       "  </thead>\n",
       "  <tbody>\n",
       "    <tr>\n",
       "      <th>0</th>\n",
       "      <td>KS</td>\n",
       "      <td>128</td>\n",
       "      <td>415</td>\n",
       "      <td>382-4657</td>\n",
       "      <td>0</td>\n",
       "      <td>1</td>\n",
       "      <td>25</td>\n",
       "      <td>265.1</td>\n",
       "      <td>110</td>\n",
       "      <td>45.07</td>\n",
       "      <td>...</td>\n",
       "      <td>99</td>\n",
       "      <td>16.78</td>\n",
       "      <td>244.7</td>\n",
       "      <td>91</td>\n",
       "      <td>11.01</td>\n",
       "      <td>10.0</td>\n",
       "      <td>3</td>\n",
       "      <td>2.70</td>\n",
       "      <td>1</td>\n",
       "      <td>0</td>\n",
       "    </tr>\n",
       "    <tr>\n",
       "      <th>1</th>\n",
       "      <td>OH</td>\n",
       "      <td>107</td>\n",
       "      <td>415</td>\n",
       "      <td>371-7191</td>\n",
       "      <td>0</td>\n",
       "      <td>1</td>\n",
       "      <td>26</td>\n",
       "      <td>161.6</td>\n",
       "      <td>123</td>\n",
       "      <td>27.47</td>\n",
       "      <td>...</td>\n",
       "      <td>103</td>\n",
       "      <td>16.62</td>\n",
       "      <td>254.4</td>\n",
       "      <td>103</td>\n",
       "      <td>11.45</td>\n",
       "      <td>13.7</td>\n",
       "      <td>3</td>\n",
       "      <td>3.70</td>\n",
       "      <td>1</td>\n",
       "      <td>0</td>\n",
       "    </tr>\n",
       "    <tr>\n",
       "      <th>2</th>\n",
       "      <td>NJ</td>\n",
       "      <td>137</td>\n",
       "      <td>415</td>\n",
       "      <td>358-1921</td>\n",
       "      <td>0</td>\n",
       "      <td>0</td>\n",
       "      <td>0</td>\n",
       "      <td>243.4</td>\n",
       "      <td>114</td>\n",
       "      <td>41.38</td>\n",
       "      <td>...</td>\n",
       "      <td>110</td>\n",
       "      <td>10.30</td>\n",
       "      <td>162.6</td>\n",
       "      <td>104</td>\n",
       "      <td>7.32</td>\n",
       "      <td>12.2</td>\n",
       "      <td>5</td>\n",
       "      <td>3.29</td>\n",
       "      <td>0</td>\n",
       "      <td>0</td>\n",
       "    </tr>\n",
       "    <tr>\n",
       "      <th>3</th>\n",
       "      <td>OH</td>\n",
       "      <td>84</td>\n",
       "      <td>408</td>\n",
       "      <td>375-9999</td>\n",
       "      <td>1</td>\n",
       "      <td>0</td>\n",
       "      <td>0</td>\n",
       "      <td>299.4</td>\n",
       "      <td>71</td>\n",
       "      <td>50.90</td>\n",
       "      <td>...</td>\n",
       "      <td>88</td>\n",
       "      <td>5.26</td>\n",
       "      <td>196.9</td>\n",
       "      <td>89</td>\n",
       "      <td>8.86</td>\n",
       "      <td>6.6</td>\n",
       "      <td>7</td>\n",
       "      <td>1.78</td>\n",
       "      <td>2</td>\n",
       "      <td>0</td>\n",
       "    </tr>\n",
       "    <tr>\n",
       "      <th>4</th>\n",
       "      <td>OK</td>\n",
       "      <td>75</td>\n",
       "      <td>415</td>\n",
       "      <td>330-6626</td>\n",
       "      <td>1</td>\n",
       "      <td>0</td>\n",
       "      <td>0</td>\n",
       "      <td>166.7</td>\n",
       "      <td>113</td>\n",
       "      <td>28.34</td>\n",
       "      <td>...</td>\n",
       "      <td>122</td>\n",
       "      <td>12.61</td>\n",
       "      <td>186.9</td>\n",
       "      <td>121</td>\n",
       "      <td>8.41</td>\n",
       "      <td>10.1</td>\n",
       "      <td>3</td>\n",
       "      <td>2.73</td>\n",
       "      <td>3</td>\n",
       "      <td>0</td>\n",
       "    </tr>\n",
       "  </tbody>\n",
       "</table>\n",
       "<p>5 rows × 21 columns</p>\n",
       "</div>"
      ],
      "text/plain": [
       "  State  Account_Len  Area    Ph_No.  Int_Plan  Vmail_Plan  messgs  \\\n",
       "0    KS          128   415  382-4657         0           1      25   \n",
       "1    OH          107   415  371-7191         0           1      26   \n",
       "2    NJ          137   415  358-1921         0           0       0   \n",
       "3    OH           84   408  375-9999         1           0       0   \n",
       "4    OK           75   415  330-6626         1           0       0   \n",
       "\n",
       "   tot_day_mins  tot_day_calls  tot_day_chrgs  ...  tot_evening_calls  \\\n",
       "0         265.1            110          45.07  ...                 99   \n",
       "1         161.6            123          27.47  ...                103   \n",
       "2         243.4            114          41.38  ...                110   \n",
       "3         299.4             71          50.90  ...                 88   \n",
       "4         166.7            113          28.34  ...                122   \n",
       "\n",
       "   tot_evening_chrgs  tot_ngt_mins  tot_ngt_calls  tot_ngt_chrgs  \\\n",
       "0              16.78         244.7             91          11.01   \n",
       "1              16.62         254.4            103          11.45   \n",
       "2              10.30         162.6            104           7.32   \n",
       "3               5.26         196.9             89           8.86   \n",
       "4              12.61         186.9            121           8.41   \n",
       "\n",
       "   tot_int_mins  tot_int_calls  tot_int_chrgs  cust_calls_made  churn_status  \n",
       "0          10.0              3           2.70                1             0  \n",
       "1          13.7              3           3.70                1             0  \n",
       "2          12.2              5           3.29                0             0  \n",
       "3           6.6              7           1.78                2             0  \n",
       "4          10.1              3           2.73                3             0  \n",
       "\n",
       "[5 rows x 21 columns]"
      ]
     },
     "execution_count": 12,
     "metadata": {},
     "output_type": "execute_result"
    }
   ],
   "source": [
    "Tel_Churn.head()"
   ]
  },
  {
   "cell_type": "code",
   "execution_count": 13,
   "metadata": {},
   "outputs": [
    {
     "name": "stdout",
     "output_type": "stream",
     "text": [
      "[0 1]\n",
      "[1 0]\n",
      "[0 1]\n"
     ]
    }
   ],
   "source": [
    "# Now check the unique values\n",
    "print(Tel_Churn.Int_Plan.unique())\n",
    "print(Tel_Churn.Vmail_Plan.unique())\n",
    "print(Tel_Churn.churn_status.unique())"
   ]
  },
  {
   "cell_type": "markdown",
   "metadata": {},
   "source": [
    "# Data Exploration"
   ]
  },
  {
   "cell_type": "code",
   "execution_count": 14,
   "metadata": {},
   "outputs": [
    {
     "data": {
      "text/plain": [
       "<matplotlib.axes._subplots.AxesSubplot at 0x27ca4c11d08>"
      ]
     },
     "execution_count": 14,
     "metadata": {},
     "output_type": "execute_result"
    },
    {
     "data": {
      "image/png": "[encoded data removed]",
      "text/plain": [
       "<Figure size 1080x432 with 1 Axes>"
      ]
     },
     "metadata": {
      "needs_background": "light"
     },
     "output_type": "display_data"
    }
   ],
   "source": [
    "plt.rcParams['figure.figsize']=(15,6)\n",
    "sns.countplot(x=\"State\", data=Tel_Churn)#Count by country"
   ]
  },
  {
   "cell_type": "code",
   "execution_count": 15,
   "metadata": {},
   "outputs": [
    {
     "data": {
      "image/png": "[encoded data removed]",
      "text/plain": [
       "<Figure size 1080x432 with 1 Axes>"
      ]
     },
     "metadata": {
      "needs_background": "light"
     },
     "output_type": "display_data"
    },
    {
     "data": {
      "image/png": "[encoded data removed]",
      "text/plain": [
       "<Figure size 1080x432 with 1 Axes>"
      ]
     },
     "metadata": {
      "needs_background": "light"
     },
     "output_type": "display_data"
    },
    {
     "data": {
      "image/png": "[encoded data removed]",
      "text/plain": [
       "<Figure size 1080x432 with 1 Axes>"
      ]
     },
     "metadata": {
      "needs_background": "light"
     },
     "output_type": "display_data"
    },
    {
     "data": {
      "image/png": "[encoded data removed]",
      "text/plain": [
       "<Figure size 1080x432 with 1 Axes>"
      ]
     },
     "metadata": {
      "needs_background": "light"
     },
     "output_type": "display_data"
    }
   ],
   "source": [
    "sns.distplot(Tel_Churn.tot_day_chrgs)\n",
    "plt.show()\n",
    "sns.distplot(Tel_Churn.tot_evening_chrgs)\n",
    "plt.show()\n",
    "sns.distplot(Tel_Churn.tot_ngt_chrgs)\n",
    "plt.show()\n",
    "sns.distplot(Tel_Churn.tot_int_chrgs)\n",
    "plt.show()"
   ]
  },
  {
   "cell_type": "code",
   "execution_count": 16,
   "metadata": {},
   "outputs": [
    {
     "data": {
      "text/plain": [
       "<matplotlib.axes._subplots.AxesSubplot at 0x27ca51390c8>"
      ]
     },
     "execution_count": 16,
     "metadata": {},
     "output_type": "execute_result"
    },
    {
     "data": {
      "image/png": "[encoded data removed]",
      "text/plain": [
       "<Figure size 1440x360 with 1 Axes>"
      ]
     },
     "metadata": {
      "needs_background": "light"
     },
     "output_type": "display_data"
    }
   ],
   "source": [
    "plt.rcParams[\"figure.figsize\"]=(20,5)\n",
    "var = Tel_Churn.groupby([\"State\",\"churn_status\"]).churn_status.count()#Churn vs. No Churn by State\n",
    "var.plot(kind=\"bar\",color=[\"red\",\"green\"])"
   ]
  },
  {
   "cell_type": "code",
   "execution_count": 17,
   "metadata": {},
   "outputs": [
    {
     "data": {
      "text/plain": [
       "<matplotlib.axes._subplots.AxesSubplot at 0x27ca55238c8>"
      ]
     },
     "execution_count": 17,
     "metadata": {},
     "output_type": "execute_result"
    },
    {
     "data": {
      "image/png": "[encoded data removed]",
      "text/plain": [
       "<Figure size 1440x360 with 1 Axes>"
      ]
     },
     "metadata": {
      "needs_background": "light"
     },
     "output_type": "display_data"
    }
   ],
   "source": [
    "Int_Plan = Tel_Churn.groupby([\"Int_Plan\",\"churn_status\"]).churn_status.count() #Churn vs. No Churn by International Plan\n",
    "Int_Plan.plot(kind=\"bar\",color=[\"red\",\"green\"])"
   ]
  },
  {
   "cell_type": "markdown",
   "metadata": {},
   "source": [
    "# Data split"
   ]
  },
  {
   "cell_type": "code",
   "execution_count": 18,
   "metadata": {},
   "outputs": [],
   "source": [
    "feature_cols =['Account_Len','Area','Int_Plan','Vmail_Plan','messgs',\n",
    "            'tot_day_mins','tot_day_calls','tot_day_chrgs','tot_evening_mins',\n",
    "            'tot_evening_calls','tot_evening_chrgs','tot_ngt_mins','tot_ngt_calls',\n",
    "            'tot_ngt_chrgs','tot_int_mins','tot_int_calls','tot_int_chrgs',\n",
    "'cust_calls_made']\n",
    "\n",
    "X = Tel_Churn[feature_cols]\n",
    "y = Tel_Churn.churn_status"
   ]
  },
  {
   "cell_type": "code",
   "execution_count": 20,
   "metadata": {},
   "outputs": [
    {
     "name": "stdout",
     "output_type": "stream",
     "text": [
      "(2333, 18)\n",
      "(1000, 18)\n",
      "(2333,)\n",
      "(1000,)\n"
     ]
    }
   ],
   "source": [
    "from sklearn.model_selection import train_test_split\n",
    "train_X,test_X,train_Y,test_Y= train_test_split(X,y,test_size=0.3,random_state=45)\n",
    "\n",
    "print(train_X.shape)\n",
    "print(test_X.shape)\n",
    "print(train_Y.shape)\n",
    "print(test_Y.shape)"
   ]
  },
  {
   "cell_type": "markdown",
   "metadata": {},
   "source": [
    "# Perform Logistic Regression"
   ]
  },
  {
   "cell_type": "code",
   "execution_count": 21,
   "metadata": {},
   "outputs": [
    {
     "name": "stdout",
     "output_type": "stream",
     "text": [
      "Precision: 0.48\n",
      "Recall: 0.2\n"
     ]
    },
    {
     "name": "stderr",
     "output_type": "stream",
     "text": [
      "C:\\ProgramData\\Miniconda3\\envs\\ml\\lib\\site-packages\\sklearn\\linear_model\\logistic.py:432: FutureWarning: Default solver will be changed to 'lbfgs' in 0.22. Specify a solver to silence this warning.\n",
      "  FutureWarning)\n"
     ]
    },
    {
     "data": {
      "text/plain": [
       "array([[833,  30],\n",
       "       [109,  28]], dtype=int64)"
      ]
     },
     "execution_count": 21,
     "metadata": {},
     "output_type": "execute_result"
    }
   ],
   "source": [
    "from sklearn.linear_model import LogisticRegression\n",
    "logreg = LogisticRegression()\n",
    "logreg.fit(train_X,train_Y)\n",
    "logreg_pred = logreg.predict(test_X)\n",
    "\n",
    "from sklearn.metrics import precision_score, recall_score\n",
    "precision_score = round(precision_score(test_Y, logreg_pred), 2)\n",
    "recall_score = round(recall_score(test_Y, logreg_pred), 2)\n",
    "print(\"Precision: \" + str(precision_score))\n",
    "print(\"Recall: \" + str(recall_score))\n",
    "\n",
    "from sklearn import metrics\n",
    "cnf_matrix = (metrics.confusion_matrix(test_Y,logreg_pred))\n",
    "cnf_matrix"
   ]
  },
  {
   "cell_type": "markdown",
   "metadata": {},
   "source": [
    "# Perform Decision Tree"
   ]
  },
  {
   "cell_type": "code",
   "execution_count": 22,
   "metadata": {},
   "outputs": [
    {
     "name": "stdout",
     "output_type": "stream",
     "text": [
      "Precision: 0.85\n",
      "Recall: 0.34\n"
     ]
    },
    {
     "data": {
      "text/plain": [
       "array([[855,   8],\n",
       "       [ 91,  46]], dtype=int64)"
      ]
     },
     "execution_count": 22,
     "metadata": {},
     "output_type": "execute_result"
    }
   ],
   "source": [
    "from sklearn import tree\n",
    "tree = tree.DecisionTreeClassifier(criterion=\"entropy\",max_depth=3)\n",
    "\n",
    "tree.fit(train_X,train_Y)\n",
    "tree_Pred = tree.predict(test_X).astype(int)\n",
    "\n",
    "\n",
    "from sklearn.metrics import precision_score, recall_score\n",
    "precision_score = round(precision_score(test_Y, tree_Pred), 2)\n",
    "recall_score = round(recall_score(test_Y, tree_Pred), 2)\n",
    "print(\"Precision: \" + str(precision_score))\n",
    "print(\"Recall: \" + str(recall_score))\n",
    "\n",
    "cnf_matrix = (metrics.confusion_matrix(test_Y,tree_Pred))\n",
    "cnf_matrix"
   ]
  },
  {
   "cell_type": "markdown",
   "metadata": {},
   "source": [
    "# Random Forest Tree"
   ]
  },
  {
   "cell_type": "code",
   "execution_count": 23,
   "metadata": {},
   "outputs": [
    {
     "name": "stdout",
     "output_type": "stream",
     "text": [
      "Precision: 0.92\n",
      "Recall: 0.18\n"
     ]
    },
    {
     "data": {
      "text/plain": [
       "array([[861,   2],\n",
       "       [113,  24]], dtype=int64)"
      ]
     },
     "execution_count": 23,
     "metadata": {},
     "output_type": "execute_result"
    }
   ],
   "source": [
    "from sklearn import tree\n",
    "from sklearn.ensemble import RandomForestClassifier\n",
    "forest = RandomForestClassifier(max_depth = 3, min_samples_split=2, n_estimators = 200, random_state = 1)\n",
    "\n",
    "forest.fit(train_X,train_Y)\n",
    "forest_Pred = forest.predict(test_X).astype(int)\n",
    "\n",
    "from sklearn.metrics import precision_score, recall_score\n",
    "precision_score = round(precision_score(test_Y, forest_Pred), 2)\n",
    "recall_score = round(recall_score(test_Y, forest_Pred), 2)\n",
    "print(\"Precision: \" + str(precision_score))\n",
    "print(\"Recall: \" + str(recall_score))\n",
    "\n",
    "cnf_matrix = (metrics.confusion_matrix(test_Y,forest_Pred))\n",
    "cnf_matrix"
   ]
  },
  {
   "cell_type": "code",
   "execution_count": 24,
   "metadata": {},
   "outputs": [],
   "source": [
    "#Credits for the original notebook: https://github.com/niranjannahak"
   ]
  },
  {
   "cell_type": "code",
   "execution_count": null,
   "metadata": {},
   "outputs": [],
   "source": []
  }
 ],
 "metadata": {
  "kernelspec": {
   "display_name": "Python 3",
   "language": "python",
   "name": "python3"
  },
  "language_info": {
   "codemirror_mode": {
    "name": "ipython",
    "version": 3
   },
   "file_extension": ".py",
   "mimetype": "text/x-python",
   "name": "python",
   "nbconvert_exporter": "python",
   "pygments_lexer": "ipython3",
   "version": "3.7.5"
  }
 },
 "nbformat": 4,
 "nbformat_minor": 2
}
