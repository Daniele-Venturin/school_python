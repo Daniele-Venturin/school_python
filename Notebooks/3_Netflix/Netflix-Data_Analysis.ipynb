{
 "cells": [
  {
   "cell_type": "markdown",
   "metadata": {},
   "source": [
    "# Netflix Data Analysis"
   ]
  },
  {
   "cell_type": "markdown",
   "metadata": {},
   "source": [
    "Data downloaded from Kaggle web site:  https://www.kaggle.com/shivamb/netflix-shows?select=netflix_titles.csv"
   ]
  },
  {
   "cell_type": "code",
   "execution_count": null,
   "metadata": {},
   "outputs": [],
   "source": [
    "import pandas as pd\n",
    "import matplotlib.pyplot as plt\n",
    "%matplotlib inline\n",
    "import seaborn as sns"
   ]
  },
  {
   "cell_type": "code",
   "execution_count": null,
   "metadata": {},
   "outputs": [],
   "source": [
    "netflix_df = pd.read_csv(\"netflix_titles.csv\")\n",
    "netflix_df.head(10)"
   ]
  },
  {
   "cell_type": "code",
   "execution_count": null,
   "metadata": {},
   "outputs": [],
   "source": [
    "# Check data types of columns\n",
    "netflix_df.dtypes"
   ]
  },
  {
   "cell_type": "code",
   "execution_count": null,
   "metadata": {},
   "outputs": [],
   "source": [
    "netflix_df.describe()"
   ]
  },
  {
   "cell_type": "code",
   "execution_count": null,
   "metadata": {},
   "outputs": [],
   "source": [
    "# New dataframe with split value columns to change column type\n",
    "# See: https://pandas.pydata.org/pandas-docs/version/0.23.1/generated/pandas.Series.str.split.html\n",
    "column_min = netflix_df[\"duration\"].str.split(\" \", n = 1, expand = True)"
   ]
  },
  {
   "cell_type": "code",
   "execution_count": null,
   "metadata": {},
   "outputs": [],
   "source": [
    "netflix_df[\"duration (min)\"]= column_min[0] #Add a column to the dataframe\n",
    "\n",
    "# Change column type from object to int64\n",
    "netflix_df['duration (min)'] = pd.to_numeric(netflix_df['duration (min)'])\n",
    "\n",
    "# Check data type of the column\n",
    "netflix_df.dtypes"
   ]
  },
  {
   "cell_type": "code",
   "execution_count": null,
   "metadata": {},
   "outputs": [],
   "source": [
    "netflix_df.shape"
   ]
  },
  {
   "cell_type": "code",
   "execution_count": null,
   "metadata": {},
   "outputs": [],
   "source": [
    "netflix_df.describe()"
   ]
  },
  {
   "cell_type": "code",
   "execution_count": null,
   "metadata": {},
   "outputs": [],
   "source": [
    "# Filter the data so that only those sightings in the movies are in a DataFrame\n",
    "movie_based_df = netflix_df[netflix_df[\"type\"] == \"Movie\"] #Like WHERE condition in SQL\n",
    "movie_based_df.head(3)"
   ]
  },
  {
   "cell_type": "code",
   "execution_count": null,
   "metadata": {},
   "outputs": [],
   "source": [
    "movie_based_df.describe()"
   ]
  },
  {
   "cell_type": "code",
   "execution_count": null,
   "metadata": {},
   "outputs": [],
   "source": [
    "movie_based_df = movie_based_df[movie_based_df[\"duration (min)\"] > 60] #Like WHERE condition in SQL"
   ]
  },
  {
   "cell_type": "code",
   "execution_count": null,
   "metadata": {},
   "outputs": [],
   "source": [
    "movie_based_df.describe()"
   ]
  },
  {
   "cell_type": "code",
   "execution_count": null,
   "metadata": {},
   "outputs": [],
   "source": [
    "# Generate a pie plot showing the distribution of Movies vs TV Shows using pandas\n",
    "production_type = netflix_df.groupby('type')\n",
    "# create a DataFrame\n",
    "production_type_count = pd.DataFrame(production_type['type'].count())\n",
    "production_type_count"
   ]
  },
  {
   "cell_type": "code",
   "execution_count": null,
   "metadata": {},
   "outputs": [],
   "source": [
    "fig, ax = plt.subplots()\n",
    "\n",
    "production_type_count.plot(kind='pie', y=\"type\", autopct='%1.1f%%', figsize=(10,8),shadow=True, startangle=140, legend=False, fontsize=12, ax=ax)\n",
    "\n",
    "ax.set_ylabel('Production Type')\n",
    "ax.set_title(\"Production Type Distribution\",fontsize=15)"
   ]
  },
  {
   "cell_type": "code",
   "execution_count": null,
   "metadata": {},
   "outputs": [],
   "source": [
    "# Ratings data\n",
    "ratings_count = netflix_df.groupby(\"rating\")\n",
    "\n",
    "ratings_count_df = pd.DataFrame(ratings_count[\"rating\"].count())\n",
    "ratings_count_df"
   ]
  },
  {
   "cell_type": "code",
   "execution_count": null,
   "metadata": {},
   "outputs": [],
   "source": [
    "# create bar chart showing Ratings content added over the years - Overall\n",
    "fig, ax = plt.subplots()\n",
    "ratings_count_df.plot(kind='bar',figsize=(10,8),legend=False, ax=ax)\n",
    "ax.set_xlabel(\"Ratings\",fontsize=12)\n",
    "ax.set_ylabel(\"Count\",fontsize=12)\n",
    "ax.set_title(\"Ratings Distribution\",fontsize=15)\n",
    "#plt.savefig(\"figures/RatingsDist_Bar.png\")"
   ]
  },
  {
   "cell_type": "markdown",
   "metadata": {},
   "source": [
    "# Multiple data sources"
   ]
  },
  {
   "cell_type": "code",
   "execution_count": null,
   "metadata": {},
   "outputs": [],
   "source": [
    "Newfile_df=pd.DataFrame(netflix_df)\n",
    "Newfile_df"
   ]
  },
  {
   "cell_type": "markdown",
   "metadata": {},
   "source": [
    "### Reading additional dataset: Female Director List from IMDB"
   ]
  },
  {
   "cell_type": "code",
   "execution_count": null,
   "metadata": {},
   "outputs": [],
   "source": [
    "# Reading the IMDB Female Directors List (Additional Datset)(NRB):\n",
    "\n",
    "IMDBFemaleDir = pd.read_csv(\"LIST OF FEMALE DIRECTORS.csv\", encoding = 'unicode_escape')\n",
    "IMDBFemaleDir.head()"
   ]
  },
  {
   "cell_type": "code",
   "execution_count": null,
   "metadata": {},
   "outputs": [],
   "source": [
    "# Updating the column heading (NRB):\n",
    "\n",
    "IMDBFemaleDir_df = IMDBFemaleDir.rename(columns={\"Name\": \"director\"})\n",
    "IMDBFemaleDir_df"
   ]
  },
  {
   "cell_type": "code",
   "execution_count": null,
   "metadata": {},
   "outputs": [],
   "source": [
    "# Adding the Gender Column(NRB):\n",
    "\n",
    "IMDBFemaleDir_df[\"Gender\"] = \"Female\" #Add a new column\n",
    "IMDBFemaleDir_df"
   ]
  },
  {
   "cell_type": "code",
   "execution_count": null,
   "metadata": {},
   "outputs": [],
   "source": [
    "# Dropping off all the unnecessary columns from IMDB Dataset (NRB):\n",
    "\n",
    "Updated_IMDBFemaleDir_df = IMDBFemaleDir_df.drop(['Position', 'Const', 'Created','Modified','Description',\n",
    "                                                 'Known For','Birth Date'], axis=1)\n",
    "Updated_IMDBFemaleDir_df"
   ]
  },
  {
   "cell_type": "code",
   "execution_count": null,
   "metadata": {},
   "outputs": [],
   "source": [
    "# Dropping off Duplicates (NRB):\n",
    "\n",
    "Updated_IMDBFemaleDir_df_nodups = Updated_IMDBFemaleDir_df.drop_duplicates()\n",
    "Updated_IMDBFemaleDir_df_nodups"
   ]
  },
  {
   "cell_type": "code",
   "execution_count": null,
   "metadata": {},
   "outputs": [],
   "source": [
    "# Merging both files for analysis (NRB)\n",
    "# Merge = JOIN in relational db\n",
    "Combined_files1= pd.merge(Newfile_df,Updated_IMDBFemaleDir_df_nodups,how='left',on=['director'],sort=False)\n",
    "Combined_files1"
   ]
  },
  {
   "cell_type": "code",
   "execution_count": null,
   "metadata": {},
   "outputs": [],
   "source": [
    "check_female_df = Combined_files1[Combined_files1[\"Gender\"] == \"Female\"]\n",
    "check_female_df"
   ]
  },
  {
   "cell_type": "code",
   "execution_count": null,
   "metadata": {},
   "outputs": [],
   "source": [
    "# Filling value as Other in column Gender for directors other than Female:(NRB)\n",
    "Combined_files1[\"Gender\"].fillna(\"Other\", inplace=True)\n",
    "Combined_files1"
   ]
  },
  {
   "cell_type": "code",
   "execution_count": null,
   "metadata": {},
   "outputs": [],
   "source": [
    "# Creating new DataFrame to show the ratio of Female Directors versus Other \n",
    "# who directed Movies and dropping off the TV Show values:(NRB)\n",
    "\n",
    "df2 = Combined_files1.groupby(['type','Gender']).count()['director']\n",
    "df3 = pd.DataFrame(df2.drop('TV Show'))\n",
    "df3"
   ]
  },
  {
   "cell_type": "code",
   "execution_count": null,
   "metadata": {},
   "outputs": [],
   "source": [
    "# Plotting the dataframe:(NRB)\n",
    "\n",
    "plt.figure(figsize=(6,6))\n",
    "labels=[\"Female Directors\", \"Other Directors\"]\n",
    "wedgeprops = {\"linewidth\": 4, 'width':1}\n",
    "explode = (0.3,0)\n",
    "plt.pie(df3, labels=labels,explode=explode,autopct=\"%1.3f%%\", shadow=True, startangle=45, \n",
    "        textprops={'fontsize': 12}, wedgeprops = wedgeprops,)\n",
    "plt.xlabel('Directors', fontsize=12)\n",
    "plt.tight_layout()\n",
    "plt.suptitle(\"Movie Directors: Other vs Female\", fontsize=15)\n",
    "plt.show()"
   ]
  },
  {
   "cell_type": "code",
   "execution_count": null,
   "metadata": {},
   "outputs": [],
   "source": [
    "# Creating dataframe of data grouped by gender and duration (NRB)\n",
    "\n",
    "df4 = Combined_files1[Combined_files1['type'] == 'Movie']\n",
    "df5 = pd.DataFrame(df4.groupby(['Gender','duration (min)']).size().reset_index(name=\"Count\"))"
   ]
  },
  {
   "cell_type": "code",
   "execution_count": null,
   "metadata": {},
   "outputs": [],
   "source": [
    "# Dropping off the 'Other' from Gender to analyze the relationship between \n",
    "# the Female Directors and the duration of movies they produced: (NRB)\n",
    "\n",
    "df6 = df5[df5.Gender != \"Other\"].sort_values(by='duration (min)',ascending=False)\n",
    "df6"
   ]
  },
  {
   "cell_type": "code",
   "execution_count": null,
   "metadata": {},
   "outputs": [],
   "source": [
    "df6[['duration (min)']].plot(kind='hist',bins= [0,70,90,110,130,150,170,190],rwidth=0.8)"
   ]
  },
  {
   "cell_type": "code",
   "execution_count": null,
   "metadata": {},
   "outputs": [],
   "source": [
    "# Creating bins for duration(mins) of Movies and the assigning the labels\n",
    "# Creating a new column for the labels - FeatureFilmLength (NRB)\n",
    "\n",
    "bins= [0,70,90,110,130,150,170,190]\n",
    "feature_length= [\"(< 70mins)\", \"(70-89mins)\", \"(90-109mins)\", \n",
    "                 \"(110-129mins)\",\"(130-149mins)\",\"(150-169mins)\",\n",
    "                 \"(170-189mins)\"]\n",
    "\n",
    "df6[\"FeatureFilmLength\"]= pd.cut(df6[\"duration (min)\"],bins=bins,labels=feature_length)\n",
    "df6"
   ]
  }
 ],
 "metadata": {
  "kernelspec": {
   "display_name": "Python 3",
   "language": "python",
   "name": "python3"
  },
  "language_info": {
   "codemirror_mode": {
    "name": "ipython",
    "version": 3
   },
   "file_extension": ".py",
   "mimetype": "text/x-python",
   "name": "python",
   "nbconvert_exporter": "python",
   "pygments_lexer": "ipython3",
   "version": "3.8.5"
  }
 },
 "nbformat": 4,
 "nbformat_minor": 2
}
